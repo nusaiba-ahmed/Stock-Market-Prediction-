{
  "nbformat": 4,
  "nbformat_minor": 0,
  "metadata": {
    "colab": {
      "provenance": []
    },
    "kernelspec": {
      "name": "python3",
      "display_name": "Python 3"
    },
    "language_info": {
      "name": "python"
    }
  },
  "cells": [
    {
      "cell_type": "code",
      "execution_count": 51,
      "metadata": {
        "id": "LmvfC-gL3Iim"
      },
      "outputs": [],
      "source": [
        "# Import modules and packages\n",
        "import numpy as np\n",
        "import pandas as pd\n",
        "import matplotlib.pyplot as plt\n",
        "import datetime as dt\n",
        "from datetime import datetime\n",
        "import numpy as np \n",
        "import pandas as pd \n",
        "import matplotlib.pyplot as plt\n",
        "from datetime import datetime\n",
        "from keras.models import Sequential\n",
        "from keras.layers import Dense, LSTM, Dropout, GRU\n",
        "from keras.layers import *\n",
        "from sklearn.preprocessing import MinMaxScaler\n",
        "from sklearn.metrics import mean_squared_error, mean_absolute_error,mean_absolute_percentage_error\n",
        "from sklearn.model_selection import train_test_split\n",
        "from keras.callbacks import EarlyStopping\n",
        "from keras.optimizers import Adam, SGD\n",
        "from sklearn.preprocessing import MinMaxScaler\n",
        "import math\n",
        "from sklearn import metrics\n",
        "\n",
        "import pmdarima as pm\n",
        "\n",
        "import statsmodels.api as sms\n",
        "from statsmodels.tsa.stattools import adfuller\n",
        "from statsmodels.graphics.tsaplots import plot_acf,plot_pacf\n",
        "from datetime import datetime,timedelta\n",
        "from statsmodels.tsa.arima_model import ARIMA\n",
        "from statsmodels.tsa.statespace.sarimax import SARIMAX\n",
        "\n",
        "from keras.callbacks import EarlyStopping, ReduceLROnPlateau, ModelCheckpoint, TensorBoard\n",
        "from sklearn.metrics import mean_squared_error, mean_absolute_error, explained_variance_score, r2_score \n",
        "%matplotlib inline"
      ]
    },
    {
      "cell_type": "code",
      "source": [
        "!pip install pmdarima"
      ],
      "metadata": {
        "colab": {
          "base_uri": "https://localhost:8080/"
        },
        "id": "zdU1r4v_b_tm",
        "outputId": "659b0152-e6db-4336-e063-457b16c39fa2"
      },
      "execution_count": 52,
      "outputs": [
        {
          "output_type": "stream",
          "name": "stdout",
          "text": [
            "Looking in indexes: https://pypi.org/simple, https://us-python.pkg.dev/colab-wheels/public/simple/\n",
            "Requirement already satisfied: pmdarima in /usr/local/lib/python3.8/dist-packages (2.0.2)\n",
            "Requirement already satisfied: statsmodels>=0.13.2 in /usr/local/lib/python3.8/dist-packages (from pmdarima) (0.13.5)\n",
            "Requirement already satisfied: setuptools!=50.0.0,>=38.6.0 in /usr/local/lib/python3.8/dist-packages (from pmdarima) (57.4.0)\n",
            "Requirement already satisfied: numpy>=1.21.2 in /usr/local/lib/python3.8/dist-packages (from pmdarima) (1.21.6)\n",
            "Requirement already satisfied: urllib3 in /usr/local/lib/python3.8/dist-packages (from pmdarima) (1.24.3)\n",
            "Requirement already satisfied: Cython!=0.29.18,!=0.29.31,>=0.29 in /usr/local/lib/python3.8/dist-packages (from pmdarima) (0.29.32)\n",
            "Requirement already satisfied: scikit-learn>=0.22 in /usr/local/lib/python3.8/dist-packages (from pmdarima) (1.0.2)\n",
            "Requirement already satisfied: joblib>=0.11 in /usr/local/lib/python3.8/dist-packages (from pmdarima) (1.2.0)\n",
            "Requirement already satisfied: scipy>=1.3.2 in /usr/local/lib/python3.8/dist-packages (from pmdarima) (1.7.3)\n",
            "Requirement already satisfied: pandas>=0.19 in /usr/local/lib/python3.8/dist-packages (from pmdarima) (1.3.5)\n",
            "Requirement already satisfied: python-dateutil>=2.7.3 in /usr/local/lib/python3.8/dist-packages (from pandas>=0.19->pmdarima) (2.8.2)\n",
            "Requirement already satisfied: pytz>=2017.3 in /usr/local/lib/python3.8/dist-packages (from pandas>=0.19->pmdarima) (2022.6)\n",
            "Requirement already satisfied: six>=1.5 in /usr/local/lib/python3.8/dist-packages (from python-dateutil>=2.7.3->pandas>=0.19->pmdarima) (1.15.0)\n",
            "Requirement already satisfied: threadpoolctl>=2.0.0 in /usr/local/lib/python3.8/dist-packages (from scikit-learn>=0.22->pmdarima) (3.1.0)\n",
            "Requirement already satisfied: packaging>=21.3 in /usr/local/lib/python3.8/dist-packages (from statsmodels>=0.13.2->pmdarima) (21.3)\n",
            "Requirement already satisfied: patsy>=0.5.2 in /usr/local/lib/python3.8/dist-packages (from statsmodels>=0.13.2->pmdarima) (0.5.3)\n",
            "Requirement already satisfied: pyparsing!=3.0.5,>=2.0.2 in /usr/local/lib/python3.8/dist-packages (from packaging>=21.3->statsmodels>=0.13.2->pmdarima) (3.0.9)\n"
          ]
        }
      ]
    },
    {
      "cell_type": "code",
      "source": [
        "from google.colab import drive\n",
        "drive.mount('/content/drive')"
      ],
      "metadata": {
        "colab": {
          "base_uri": "https://localhost:8080/"
        },
        "id": "GN-U4GAf4Vbr",
        "outputId": "1b513e79-cc1e-453a-f50d-294d06f50746"
      },
      "execution_count": 53,
      "outputs": [
        {
          "output_type": "stream",
          "name": "stdout",
          "text": [
            "Drive already mounted at /content/drive; to attempt to forcibly remount, call drive.mount(\"/content/drive\", force_remount=True).\n"
          ]
        }
      ]
    },
    {
      "cell_type": "code",
      "source": [
        "df = pd.read_csv('/content/drive/MyDrive/CSE_438 Project/Dataset/Dataset3.csv')"
      ],
      "metadata": {
        "id": "FF85K8D7Tvm_"
      },
      "execution_count": 54,
      "outputs": []
    },
    {
      "cell_type": "code",
      "source": [
        "df.head()"
      ],
      "metadata": {
        "colab": {
          "base_uri": "https://localhost:8080/",
          "height": 206
        },
        "id": "z2tngkMaYQ5s",
        "outputId": "c3968cf7-1b4b-4da4-9620-4e06a3acfbda"
      },
      "execution_count": 55,
      "outputs": [
        {
          "output_type": "execute_result",
          "data": {
            "text/plain": [
              "       Date     Open     High      Low   Close*  Adj Close**    Volume\n",
              "0  1/2/2015  4240.25  4272.75  4201.00  4214.25      4214.25  229555.0\n",
              "1  1/5/2015  4216.00  4220.75  4145.00  4161.75      4161.75  313771.0\n",
              "2  1/6/2015  4166.50  4172.50  4082.00  4102.25      4102.25  426154.0\n",
              "3  1/7/2015  4105.50  4163.25  4102.75  4151.50      4151.50  328184.0\n",
              "4  1/8/2015  4152.25  4242.75  4152.25  4232.25      4232.25  272056.0"
            ],
            "text/html": [
              "\n",
              "  <div id=\"df-9ffff097-8d8a-485c-954b-e2b6cf523dac\">\n",
              "    <div class=\"colab-df-container\">\n",
              "      <div>\n",
              "<style scoped>\n",
              "    .dataframe tbody tr th:only-of-type {\n",
              "        vertical-align: middle;\n",
              "    }\n",
              "\n",
              "    .dataframe tbody tr th {\n",
              "        vertical-align: top;\n",
              "    }\n",
              "\n",
              "    .dataframe thead th {\n",
              "        text-align: right;\n",
              "    }\n",
              "</style>\n",
              "<table border=\"1\" class=\"dataframe\">\n",
              "  <thead>\n",
              "    <tr style=\"text-align: right;\">\n",
              "      <th></th>\n",
              "      <th>Date</th>\n",
              "      <th>Open</th>\n",
              "      <th>High</th>\n",
              "      <th>Low</th>\n",
              "      <th>Close*</th>\n",
              "      <th>Adj Close**</th>\n",
              "      <th>Volume</th>\n",
              "    </tr>\n",
              "  </thead>\n",
              "  <tbody>\n",
              "    <tr>\n",
              "      <th>0</th>\n",
              "      <td>1/2/2015</td>\n",
              "      <td>4240.25</td>\n",
              "      <td>4272.75</td>\n",
              "      <td>4201.00</td>\n",
              "      <td>4214.25</td>\n",
              "      <td>4214.25</td>\n",
              "      <td>229555.0</td>\n",
              "    </tr>\n",
              "    <tr>\n",
              "      <th>1</th>\n",
              "      <td>1/5/2015</td>\n",
              "      <td>4216.00</td>\n",
              "      <td>4220.75</td>\n",
              "      <td>4145.00</td>\n",
              "      <td>4161.75</td>\n",
              "      <td>4161.75</td>\n",
              "      <td>313771.0</td>\n",
              "    </tr>\n",
              "    <tr>\n",
              "      <th>2</th>\n",
              "      <td>1/6/2015</td>\n",
              "      <td>4166.50</td>\n",
              "      <td>4172.50</td>\n",
              "      <td>4082.00</td>\n",
              "      <td>4102.25</td>\n",
              "      <td>4102.25</td>\n",
              "      <td>426154.0</td>\n",
              "    </tr>\n",
              "    <tr>\n",
              "      <th>3</th>\n",
              "      <td>1/7/2015</td>\n",
              "      <td>4105.50</td>\n",
              "      <td>4163.25</td>\n",
              "      <td>4102.75</td>\n",
              "      <td>4151.50</td>\n",
              "      <td>4151.50</td>\n",
              "      <td>328184.0</td>\n",
              "    </tr>\n",
              "    <tr>\n",
              "      <th>4</th>\n",
              "      <td>1/8/2015</td>\n",
              "      <td>4152.25</td>\n",
              "      <td>4242.75</td>\n",
              "      <td>4152.25</td>\n",
              "      <td>4232.25</td>\n",
              "      <td>4232.25</td>\n",
              "      <td>272056.0</td>\n",
              "    </tr>\n",
              "  </tbody>\n",
              "</table>\n",
              "</div>\n",
              "      <button class=\"colab-df-convert\" onclick=\"convertToInteractive('df-9ffff097-8d8a-485c-954b-e2b6cf523dac')\"\n",
              "              title=\"Convert this dataframe to an interactive table.\"\n",
              "              style=\"display:none;\">\n",
              "        \n",
              "  <svg xmlns=\"http://www.w3.org/2000/svg\" height=\"24px\"viewBox=\"0 0 24 24\"\n",
              "       width=\"24px\">\n",
              "    <path d=\"M0 0h24v24H0V0z\" fill=\"none\"/>\n",
              "    <path d=\"M18.56 5.44l.94 2.06.94-2.06 2.06-.94-2.06-.94-.94-2.06-.94 2.06-2.06.94zm-11 1L8.5 8.5l.94-2.06 2.06-.94-2.06-.94L8.5 2.5l-.94 2.06-2.06.94zm10 10l.94 2.06.94-2.06 2.06-.94-2.06-.94-.94-2.06-.94 2.06-2.06.94z\"/><path d=\"M17.41 7.96l-1.37-1.37c-.4-.4-.92-.59-1.43-.59-.52 0-1.04.2-1.43.59L10.3 9.45l-7.72 7.72c-.78.78-.78 2.05 0 2.83L4 21.41c.39.39.9.59 1.41.59.51 0 1.02-.2 1.41-.59l7.78-7.78 2.81-2.81c.8-.78.8-2.07 0-2.86zM5.41 20L4 18.59l7.72-7.72 1.47 1.35L5.41 20z\"/>\n",
              "  </svg>\n",
              "      </button>\n",
              "      \n",
              "  <style>\n",
              "    .colab-df-container {\n",
              "      display:flex;\n",
              "      flex-wrap:wrap;\n",
              "      gap: 12px;\n",
              "    }\n",
              "\n",
              "    .colab-df-convert {\n",
              "      background-color: #E8F0FE;\n",
              "      border: none;\n",
              "      border-radius: 50%;\n",
              "      cursor: pointer;\n",
              "      display: none;\n",
              "      fill: #1967D2;\n",
              "      height: 32px;\n",
              "      padding: 0 0 0 0;\n",
              "      width: 32px;\n",
              "    }\n",
              "\n",
              "    .colab-df-convert:hover {\n",
              "      background-color: #E2EBFA;\n",
              "      box-shadow: 0px 1px 2px rgba(60, 64, 67, 0.3), 0px 1px 3px 1px rgba(60, 64, 67, 0.15);\n",
              "      fill: #174EA6;\n",
              "    }\n",
              "\n",
              "    [theme=dark] .colab-df-convert {\n",
              "      background-color: #3B4455;\n",
              "      fill: #D2E3FC;\n",
              "    }\n",
              "\n",
              "    [theme=dark] .colab-df-convert:hover {\n",
              "      background-color: #434B5C;\n",
              "      box-shadow: 0px 1px 3px 1px rgba(0, 0, 0, 0.15);\n",
              "      filter: drop-shadow(0px 1px 2px rgba(0, 0, 0, 0.3));\n",
              "      fill: #FFFFFF;\n",
              "    }\n",
              "  </style>\n",
              "\n",
              "      <script>\n",
              "        const buttonEl =\n",
              "          document.querySelector('#df-9ffff097-8d8a-485c-954b-e2b6cf523dac button.colab-df-convert');\n",
              "        buttonEl.style.display =\n",
              "          google.colab.kernel.accessAllowed ? 'block' : 'none';\n",
              "\n",
              "        async function convertToInteractive(key) {\n",
              "          const element = document.querySelector('#df-9ffff097-8d8a-485c-954b-e2b6cf523dac');\n",
              "          const dataTable =\n",
              "            await google.colab.kernel.invokeFunction('convertToInteractive',\n",
              "                                                     [key], {});\n",
              "          if (!dataTable) return;\n",
              "\n",
              "          const docLinkHtml = 'Like what you see? Visit the ' +\n",
              "            '<a target=\"_blank\" href=https://colab.research.google.com/notebooks/data_table.ipynb>data table notebook</a>'\n",
              "            + ' to learn more about interactive tables.';\n",
              "          element.innerHTML = '';\n",
              "          dataTable['output_type'] = 'display_data';\n",
              "          await google.colab.output.renderOutput(dataTable, element);\n",
              "          const docLink = document.createElement('div');\n",
              "          docLink.innerHTML = docLinkHtml;\n",
              "          element.appendChild(docLink);\n",
              "        }\n",
              "      </script>\n",
              "    </div>\n",
              "  </div>\n",
              "  "
            ]
          },
          "metadata": {},
          "execution_count": 55
        }
      ]
    },
    {
      "cell_type": "code",
      "source": [
        "df['Date'] = pd.to_datetime(df['Date'])"
      ],
      "metadata": {
        "id": "r4FPZDfxYqS3"
      },
      "execution_count": 56,
      "outputs": []
    },
    {
      "cell_type": "code",
      "source": [
        "el_df = df.set_index('Date')"
      ],
      "metadata": {
        "id": "KYxx1z54asF4"
      },
      "execution_count": 57,
      "outputs": []
    },
    {
      "cell_type": "code",
      "source": [
        "el_df.plot(subplots=True)"
      ],
      "metadata": {
        "colab": {
          "base_uri": "https://localhost:8080/",
          "height": 398
        },
        "id": "qhQiPelqa5qC",
        "outputId": "c9272b16-9831-4c9b-9a9c-722f5b2f8caf"
      },
      "execution_count": 58,
      "outputs": [
        {
          "output_type": "execute_result",
          "data": {
            "text/plain": [
              "array([<matplotlib.axes._subplots.AxesSubplot object at 0x7efdad35e160>,\n",
              "       <matplotlib.axes._subplots.AxesSubplot object at 0x7efdad2e6d60>,\n",
              "       <matplotlib.axes._subplots.AxesSubplot object at 0x7efdad287f70>,\n",
              "       <matplotlib.axes._subplots.AxesSubplot object at 0x7efdad23f0d0>,\n",
              "       <matplotlib.axes._subplots.AxesSubplot object at 0x7efdad1ee1f0>,\n",
              "       <matplotlib.axes._subplots.AxesSubplot object at 0x7efdad2252e0>],\n",
              "      dtype=object)"
            ]
          },
          "metadata": {},
          "execution_count": 58
        },
        {
          "output_type": "display_data",
          "data": {
            "text/plain": [
              "<Figure size 432x288 with 6 Axes>"
            ],
            "image/png": "[encoded data removed]"
          },
          "metadata": {
            "needs_background": "light"
          }
        }
      ]
    },
    {
      "cell_type": "code",
      "source": [
        "el_df.resample('M').mean()"
      ],
      "metadata": {
        "colab": {
          "base_uri": "https://localhost:8080/",
          "height": 455
        },
        "id": "3gD-UeWFbBmo",
        "outputId": "34b8db2a-ba4a-438f-cbdf-e7a54b93f7ac"
      },
      "execution_count": 59,
      "outputs": [
        {
          "output_type": "execute_result",
          "data": {
            "text/plain": [
              "                    Open          High           Low        Close*  \\\n",
              "Date                                                                 \n",
              "2015-01-31   4183.312500   4221.237500   4136.800000   4176.787500   \n",
              "2015-02-28   4323.513158   4351.631579   4305.381579   4339.157895   \n",
              "2015-03-31   4389.521739   4410.684783   4356.945652   4383.478261   \n",
              "2015-04-30   4413.238095   4441.857143   4386.702381   4421.321429   \n",
              "2015-05-31   4474.537500   4500.862500   4446.575000   4476.587500   \n",
              "...                  ...           ...           ...           ...   \n",
              "2022-08-31  13104.739130  13231.065217  12940.326087  13078.847826   \n",
              "2022-09-30  11937.601190  12076.261905  11727.220238  11861.855000   \n",
              "2022-10-31  11240.590909  11436.750000  11055.806818  11265.568182   \n",
              "2022-11-30  11474.107143  11661.625000  11346.886905  11513.011905   \n",
              "2022-12-31  11805.571429  11872.107143  11614.821429  11738.500000   \n",
              "\n",
              "             Adj Close**         Volume  \n",
              "Date                                     \n",
              "2015-01-31   4176.787500  341627.850000  \n",
              "2015-02-28   4339.157895  209627.263158  \n",
              "2015-03-31   4383.478261  212127.521739  \n",
              "2015-04-30   4421.321429  213783.428571  \n",
              "2015-05-31   4476.587500  194860.550000  \n",
              "...                  ...            ...  \n",
              "2022-08-31  13078.847826  617278.391304  \n",
              "2022-09-30  11861.855000  700716.809524  \n",
              "2022-10-31  11265.568182  756209.272727  \n",
              "2022-11-30  11513.011905  616936.547619  \n",
              "2022-12-31  11738.500000  607018.571429  \n",
              "\n",
              "[96 rows x 6 columns]"
            ],
            "text/html": [
              "\n",
              "  <div id=\"df-60cf602a-c829-4851-b531-0c706d9db342\">\n",
              "    <div class=\"colab-df-container\">\n",
              "      <div>\n",
              "<style scoped>\n",
              "    .dataframe tbody tr th:only-of-type {\n",
              "        vertical-align: middle;\n",
              "    }\n",
              "\n",
              "    .dataframe tbody tr th {\n",
              "        vertical-align: top;\n",
              "    }\n",
              "\n",
              "    .dataframe thead th {\n",
              "        text-align: right;\n",
              "    }\n",
              "</style>\n",
              "<table border=\"1\" class=\"dataframe\">\n",
              "  <thead>\n",
              "    <tr style=\"text-align: right;\">\n",
              "      <th></th>\n",
              "      <th>Open</th>\n",
              "      <th>High</th>\n",
              "      <th>Low</th>\n",
              "      <th>Close*</th>\n",
              "      <th>Adj Close**</th>\n",
              "      <th>Volume</th>\n",
              "    </tr>\n",
              "    <tr>\n",
              "      <th>Date</th>\n",
              "      <th></th>\n",
              "      <th></th>\n",
              "      <th></th>\n",
              "      <th></th>\n",
              "      <th></th>\n",
              "      <th></th>\n",
              "    </tr>\n",
              "  </thead>\n",
              "  <tbody>\n",
              "    <tr>\n",
              "      <th>2015-01-31</th>\n",
              "      <td>4183.312500</td>\n",
              "      <td>4221.237500</td>\n",
              "      <td>4136.800000</td>\n",
              "      <td>4176.787500</td>\n",
              "      <td>4176.787500</td>\n",
              "      <td>341627.850000</td>\n",
              "    </tr>\n",
              "    <tr>\n",
              "      <th>2015-02-28</th>\n",
              "      <td>4323.513158</td>\n",
              "      <td>4351.631579</td>\n",
              "      <td>4305.381579</td>\n",
              "      <td>4339.157895</td>\n",
              "      <td>4339.157895</td>\n",
              "      <td>209627.263158</td>\n",
              "    </tr>\n",
              "    <tr>\n",
              "      <th>2015-03-31</th>\n",
              "      <td>4389.521739</td>\n",
              "      <td>4410.684783</td>\n",
              "      <td>4356.945652</td>\n",
              "      <td>4383.478261</td>\n",
              "      <td>4383.478261</td>\n",
              "      <td>212127.521739</td>\n",
              "    </tr>\n",
              "    <tr>\n",
              "      <th>2015-04-30</th>\n",
              "      <td>4413.238095</td>\n",
              "      <td>4441.857143</td>\n",
              "      <td>4386.702381</td>\n",
              "      <td>4421.321429</td>\n",
              "      <td>4421.321429</td>\n",
              "      <td>213783.428571</td>\n",
              "    </tr>\n",
              "    <tr>\n",
              "      <th>2015-05-31</th>\n",
              "      <td>4474.537500</td>\n",
              "      <td>4500.862500</td>\n",
              "      <td>4446.575000</td>\n",
              "      <td>4476.587500</td>\n",
              "      <td>4476.587500</td>\n",
              "      <td>194860.550000</td>\n",
              "    </tr>\n",
              "    <tr>\n",
              "      <th>...</th>\n",
              "      <td>...</td>\n",
              "      <td>...</td>\n",
              "      <td>...</td>\n",
              "      <td>...</td>\n",
              "      <td>...</td>\n",
              "      <td>...</td>\n",
              "    </tr>\n",
              "    <tr>\n",
              "      <th>2022-08-31</th>\n",
              "      <td>13104.739130</td>\n",
              "      <td>13231.065217</td>\n",
              "      <td>12940.326087</td>\n",
              "      <td>13078.847826</td>\n",
              "      <td>13078.847826</td>\n",
              "      <td>617278.391304</td>\n",
              "    </tr>\n",
              "    <tr>\n",
              "      <th>2022-09-30</th>\n",
              "      <td>11937.601190</td>\n",
              "      <td>12076.261905</td>\n",
              "      <td>11727.220238</td>\n",
              "      <td>11861.855000</td>\n",
              "      <td>11861.855000</td>\n",
              "      <td>700716.809524</td>\n",
              "    </tr>\n",
              "    <tr>\n",
              "      <th>2022-10-31</th>\n",
              "      <td>11240.590909</td>\n",
              "      <td>11436.750000</td>\n",
              "      <td>11055.806818</td>\n",
              "      <td>11265.568182</td>\n",
              "      <td>11265.568182</td>\n",
              "      <td>756209.272727</td>\n",
              "    </tr>\n",
              "    <tr>\n",
              "      <th>2022-11-30</th>\n",
              "      <td>11474.107143</td>\n",
              "      <td>11661.625000</td>\n",
              "      <td>11346.886905</td>\n",
              "      <td>11513.011905</td>\n",
              "      <td>11513.011905</td>\n",
              "      <td>616936.547619</td>\n",
              "    </tr>\n",
              "    <tr>\n",
              "      <th>2022-12-31</th>\n",
              "      <td>11805.571429</td>\n",
              "      <td>11872.107143</td>\n",
              "      <td>11614.821429</td>\n",
              "      <td>11738.500000</td>\n",
              "      <td>11738.500000</td>\n",
              "      <td>607018.571429</td>\n",
              "    </tr>\n",
              "  </tbody>\n",
              "</table>\n",
              "<p>96 rows × 6 columns</p>\n",
              "</div>\n",
              "      <button class=\"colab-df-convert\" onclick=\"convertToInteractive('df-60cf602a-c829-4851-b531-0c706d9db342')\"\n",
              "              title=\"Convert this dataframe to an interactive table.\"\n",
              "              style=\"display:none;\">\n",
              "        \n",
              "  <svg xmlns=\"http://www.w3.org/2000/svg\" height=\"24px\"viewBox=\"0 0 24 24\"\n",
              "       width=\"24px\">\n",
              "    <path d=\"M0 0h24v24H0V0z\" fill=\"none\"/>\n",
              "    <path d=\"M18.56 5.44l.94 2.06.94-2.06 2.06-.94-2.06-.94-.94-2.06-.94 2.06-2.06.94zm-11 1L8.5 8.5l.94-2.06 2.06-.94-2.06-.94L8.5 2.5l-.94 2.06-2.06.94zm10 10l.94 2.06.94-2.06 2.06-.94-2.06-.94-.94-2.06-.94 2.06-2.06.94z\"/><path d=\"M17.41 7.96l-1.37-1.37c-.4-.4-.92-.59-1.43-.59-.52 0-1.04.2-1.43.59L10.3 9.45l-7.72 7.72c-.78.78-.78 2.05 0 2.83L4 21.41c.39.39.9.59 1.41.59.51 0 1.02-.2 1.41-.59l7.78-7.78 2.81-2.81c.8-.78.8-2.07 0-2.86zM5.41 20L4 18.59l7.72-7.72 1.47 1.35L5.41 20z\"/>\n",
              "  </svg>\n",
              "      </button>\n",
              "      \n",
              "  <style>\n",
              "    .colab-df-container {\n",
              "      display:flex;\n",
              "      flex-wrap:wrap;\n",
              "      gap: 12px;\n",
              "    }\n",
              "\n",
              "    .colab-df-convert {\n",
              "      background-color: #E8F0FE;\n",
              "      border: none;\n",
              "      border-radius: 50%;\n",
              "      cursor: pointer;\n",
              "      display: none;\n",
              "      fill: #1967D2;\n",
              "      height: 32px;\n",
              "      padding: 0 0 0 0;\n",
              "      width: 32px;\n",
              "    }\n",
              "\n",
              "    .colab-df-convert:hover {\n",
              "      background-color: #E2EBFA;\n",
              "      box-shadow: 0px 1px 2px rgba(60, 64, 67, 0.3), 0px 1px 3px 1px rgba(60, 64, 67, 0.15);\n",
              "      fill: #174EA6;\n",
              "    }\n",
              "\n",
              "    [theme=dark] .colab-df-convert {\n",
              "      background-color: #3B4455;\n",
              "      fill: #D2E3FC;\n",
              "    }\n",
              "\n",
              "    [theme=dark] .colab-df-convert:hover {\n",
              "      background-color: #434B5C;\n",
              "      box-shadow: 0px 1px 3px 1px rgba(0, 0, 0, 0.15);\n",
              "      filter: drop-shadow(0px 1px 2px rgba(0, 0, 0, 0.3));\n",
              "      fill: #FFFFFF;\n",
              "    }\n",
              "  </style>\n",
              "\n",
              "      <script>\n",
              "        const buttonEl =\n",
              "          document.querySelector('#df-60cf602a-c829-4851-b531-0c706d9db342 button.colab-df-convert');\n",
              "        buttonEl.style.display =\n",
              "          google.colab.kernel.accessAllowed ? 'block' : 'none';\n",
              "\n",
              "        async function convertToInteractive(key) {\n",
              "          const element = document.querySelector('#df-60cf602a-c829-4851-b531-0c706d9db342');\n",
              "          const dataTable =\n",
              "            await google.colab.kernel.invokeFunction('convertToInteractive',\n",
              "                                                     [key], {});\n",
              "          if (!dataTable) return;\n",
              "\n",
              "          const docLinkHtml = 'Like what you see? Visit the ' +\n",
              "            '<a target=\"_blank\" href=https://colab.research.google.com/notebooks/data_table.ipynb>data table notebook</a>'\n",
              "            + ' to learn more about interactive tables.';\n",
              "          element.innerHTML = '';\n",
              "          dataTable['output_type'] = 'display_data';\n",
              "          await google.colab.output.renderOutput(dataTable, element);\n",
              "          const docLink = document.createElement('div');\n",
              "          docLink.innerHTML = docLinkHtml;\n",
              "          element.appendChild(docLink);\n",
              "        }\n",
              "      </script>\n",
              "    </div>\n",
              "  </div>\n",
              "  "
            ]
          },
          "metadata": {},
          "execution_count": 59
        }
      ]
    },
    {
      "cell_type": "code",
      "source": [
        "el_df.isnull().sum()"
      ],
      "metadata": {
        "colab": {
          "base_uri": "https://localhost:8080/"
        },
        "id": "Ymtvt9YomKfP",
        "outputId": "a2f5203a-4a3a-4169-cbbd-1d5674024cef"
      },
      "execution_count": 127,
      "outputs": [
        {
          "output_type": "execute_result",
          "data": {
            "text/plain": [
              "Open           0\n",
              "High           0\n",
              "Low            0\n",
              "Close*         0\n",
              "Adj Close**    0\n",
              "Volume         0\n",
              "dtype: int64"
            ]
          },
          "metadata": {},
          "execution_count": 127
        }
      ]
    },
    {
      "cell_type": "code",
      "source": [
        "el_df.resample('M').mean().plot(subplots=True)"
      ],
      "metadata": {
        "colab": {
          "base_uri": "https://localhost:8080/",
          "height": 408
        },
        "id": "Eknf0QLrbhzY",
        "outputId": "be88610d-da88-4a8a-a8c2-a1dbd14b5583"
      },
      "execution_count": 60,
      "outputs": [
        {
          "output_type": "execute_result",
          "data": {
            "text/plain": [
              "array([<matplotlib.axes._subplots.AxesSubplot object at 0x7efdacfed550>,\n",
              "       <matplotlib.axes._subplots.AxesSubplot object at 0x7efdad038040>,\n",
              "       <matplotlib.axes._subplots.AxesSubplot object at 0x7efdad0242b0>,\n",
              "       <matplotlib.axes._subplots.AxesSubplot object at 0x7efdacfcf7f0>,\n",
              "       <matplotlib.axes._subplots.AxesSubplot object at 0x7efdacf79d30>,\n",
              "       <matplotlib.axes._subplots.AxesSubplot object at 0x7efdacf302b0>],\n",
              "      dtype=object)"
            ]
          },
          "metadata": {},
          "execution_count": 60
        },
        {
          "output_type": "display_data",
          "data": {
            "text/plain": [
              "<Figure size 432x288 with 6 Axes>"
            ],
            "image/png": "[encoded data removed]"
          },
          "metadata": {
            "needs_background": "light"
          }
        }
      ]
    },
    {
      "cell_type": "code",
      "source": [
        "final_df=el_df.resample('M').mean()"
      ],
      "metadata": {
        "id": "o4JbexB4bqRX"
      },
      "execution_count": 61,
      "outputs": []
    },
    {
      "cell_type": "code",
      "source": [
        "acf = plot_acf(final_df[\"Open\"].dropna())"
      ],
      "metadata": {
        "colab": {
          "base_uri": "https://localhost:8080/",
          "height": 281
        },
        "id": "JtdxdF8bbuGB",
        "outputId": "bb1fbba6-1439-42f6-ea5e-0807099e24fd"
      },
      "execution_count": 62,
      "outputs": [
        {
          "output_type": "display_data",
          "data": {
            "text/plain": [
              "<Figure size 432x288 with 1 Axes>"
            ],
            "image/png": "[encoded data removed]"
          },
          "metadata": {
            "needs_background": "light"
          }
        }
      ]
    },
    {
      "cell_type": "code",
      "source": [
        "pacf = plot_pacf(final_df[\"Open\"].dropna())"
      ],
      "metadata": {
        "colab": {
          "base_uri": "https://localhost:8080/",
          "height": 281
        },
        "id": "Vy16jJhQbuL3",
        "outputId": "e7781318-eeb2-445e-bfef-d51405f7ea41"
      },
      "execution_count": 63,
      "outputs": [
        {
          "output_type": "display_data",
          "data": {
            "text/plain": [
              "<Figure size 432x288 with 1 Axes>"
            ],
            "image/png": "[encoded data removed]"
          },
          "metadata": {
            "needs_background": "light"
          }
        }
      ]
    },
    {
      "cell_type": "code",
      "source": [
        "model = pm.auto_arima(final_df['Open'], \n",
        "                        m=12, seasonal=True,\n",
        "                      start_p=0, start_q=0, max_order=4, test='adf',error_action='ignore',  \n",
        "                           suppress_warnings=True,\n",
        "                      stepwise=True, trace=True)"
      ],
      "metadata": {
        "colab": {
          "base_uri": "https://localhost:8080/"
        },
        "id": "Lq0IP1LydXS6",
        "outputId": "b84ff526-5103-430d-a7ac-9bd49e1809fd"
      },
      "execution_count": 64,
      "outputs": [
        {
          "output_type": "stream",
          "name": "stdout",
          "text": [
            "Performing stepwise search to minimize aic\n",
            " ARIMA(0,2,0)(1,0,1)[12]             : AIC=1467.229, Time=0.33 sec\n",
            " ARIMA(0,2,0)(0,0,0)[12]             : AIC=1468.875, Time=0.02 sec\n",
            " ARIMA(1,2,0)(1,0,0)[12]             : AIC=1453.713, Time=0.14 sec\n",
            " ARIMA(0,2,1)(0,0,1)[12]             : AIC=1424.949, Time=0.18 sec\n",
            " ARIMA(0,2,1)(0,0,0)[12]             : AIC=1424.895, Time=0.09 sec\n",
            " ARIMA(0,2,1)(1,0,0)[12]             : AIC=1424.728, Time=0.19 sec\n",
            " ARIMA(0,2,1)(2,0,0)[12]             : AIC=1426.641, Time=0.44 sec\n",
            " ARIMA(0,2,1)(1,0,1)[12]             : AIC=1426.680, Time=0.26 sec\n",
            " ARIMA(0,2,1)(2,0,1)[12]             : AIC=inf, Time=1.28 sec\n",
            " ARIMA(0,2,0)(1,0,0)[12]             : AIC=1465.244, Time=0.08 sec\n",
            " ARIMA(1,2,1)(1,0,0)[12]             : AIC=inf, Time=0.33 sec\n",
            " ARIMA(0,2,2)(1,0,0)[12]             : AIC=inf, Time=0.28 sec\n",
            " ARIMA(1,2,2)(1,0,0)[12]             : AIC=inf, Time=0.44 sec\n",
            " ARIMA(0,2,1)(1,0,0)[12] intercept   : AIC=1426.413, Time=0.29 sec\n",
            "\n",
            "Best model:  ARIMA(0,2,1)(1,0,0)[12]          \n",
            "Total fit time: 4.387 seconds\n"
          ]
        }
      ]
    },
    {
      "cell_type": "code",
      "source": [
        "train=final_df[(final_df.index.get_level_values(0) >= '2015-02-1') & (final_df.index.get_level_values(0) <= '2022-08-30')]"
      ],
      "metadata": {
        "id": "lv2Z_MP3dnrF"
      },
      "execution_count": 238,
      "outputs": []
    },
    {
      "cell_type": "code",
      "source": [
        "test=final_df[(final_df.index.get_level_values(0) > '2022-9-1')]"
      ],
      "metadata": {
        "id": "oD1qJvA7eJp2"
      },
      "execution_count": 239,
      "outputs": []
    },
    {
      "cell_type": "code",
      "source": [
        "model.fit(train['Open'])"
      ],
      "metadata": {
        "colab": {
          "base_uri": "https://localhost:8080/"
        },
        "id": "SMWn5ZB7eeIA",
        "outputId": "3bff9763-683d-4916-ff74-4a58d0b3885f"
      },
      "execution_count": 240,
      "outputs": [
        {
          "output_type": "execute_result",
          "data": {
            "text/plain": [
              "ARIMA(order=(0, 2, 1), scoring_args={}, seasonal_order=(1, 0, 0, 12),\n",
              "      suppress_warnings=True, with_intercept=False)"
            ]
          },
          "metadata": {},
          "execution_count": 240
        }
      ]
    },
    {
      "cell_type": "code",
      "source": [
        "forecast1=model.predict(n_periods=8, return_conf_int=True)\n",
        "forecast_range=pd.date_range(start='2022-8-1', periods=8,freq='M')"
      ],
      "metadata": {
        "id": "P946WkTjfWgP"
      },
      "execution_count": 241,
      "outputs": []
    },
    {
      "cell_type": "code",
      "source": [
        "forecast1_df = pd.DataFrame(forecast1[0],index =forecast_range,columns=['Prediction'])"
      ],
      "metadata": {
        "id": "9Az64vDCfdJe"
      },
      "execution_count": 242,
      "outputs": []
    },
    {
      "cell_type": "code",
      "source": [
        "pd.concat([final_df['Open'],forecast1_df],axis=1).plot()\n"
      ],
      "metadata": {
        "colab": {
          "base_uri": "https://localhost:8080/",
          "height": 283
        },
        "id": "UM5ZDNRXf4QY",
        "outputId": "7635f40e-deed-4a01-a814-35b64b811b9e"
      },
      "execution_count": 243,
      "outputs": [
        {
          "output_type": "execute_result",
          "data": {
            "text/plain": [
              "<matplotlib.axes._subplots.AxesSubplot at 0x7efdab0d7880>"
            ]
          },
          "metadata": {},
          "execution_count": 243
        },
        {
          "output_type": "display_data",
          "data": {
            "text/plain": [
              "<Figure size 432x288 with 1 Axes>"
            ],
            "image/png": "[encoded data removed]"
          },
          "metadata": {
            "needs_background": "light"
          }
        }
      ]
    },
    {
      "cell_type": "code",
      "source": [
        "pred=[]\n",
        "for val in final_df['Open']:\n",
        "  pred.append(val)\n",
        "for i in range(len(pred)):\n",
        "  pred[i]=int(pred[i])\n",
        "\n",
        "pred = pred[::-1]\n",
        "pred = pred[0:8]\n",
        "testValues=[]\n",
        "print(pred)\n",
        "\n",
        "for val in forecast1_df['Prediction']:  \n",
        "  testValues.append(int(val))\n",
        "\n",
        "print(testValues)\n",
        "\n",
        "\n",
        "from sklearn.metrics import accuracy_score\n",
        "from sklearn.metrics import mean_squared_error, mean_absolute_error\n",
        "from sklearn.metrics import r2_score\n",
        "\n",
        "print('MSE: ',np.sqrt(mean_squared_error(testValues,pred)))\n",
        "print(\"Mean Absolute Error: \",mean_absolute_error(testValues,pred))\n",
        "print(\"R2 Score: \",r2_score(testValues,pred))\n",
        "print(\"MAPE Percentage Error: \",mean_absolute_percentage_error(testValues,pred))"
      ],
      "metadata": {
        "colab": {
          "base_uri": "https://localhost:8080/"
        },
        "id": "ggBryDbqkBkI",
        "outputId": "83a6836f-ee5b-497a-d0b7-df0ef6a608a8"
      },
      "execution_count": 248,
      "outputs": [
        {
          "output_type": "stream",
          "name": "stdout",
          "text": [
            "[11805, 11474, 11240, 11937, 13104, 12146, 11908, 12394]\n",
            "[11852, 11525, 11137, 10985, 10612, 10100, 9595, 9189]\n",
            "MSE:  1835.0714223157638\n",
            "Mean Absolute Error:  1401.125\n",
            "R2 Score:  -3.4119935853069245\n",
            "MAPE Percentage Error:  0.14144440265771013\n"
          ]
        }
      ]
    }
  ]
}