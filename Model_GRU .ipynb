{
  "nbformat": 4,
  "nbformat_minor": 0,
  "metadata": {
    "colab": {
      "provenance": []
    },
    "kernelspec": {
      "name": "python3",
      "display_name": "Python 3"
    },
    "language_info": {
      "name": "python"
    }
  },
  "cells": [
    {
      "cell_type": "code",
      "execution_count": 1,
      "metadata": {
        "id": "VtSZTDVG8qGd"
      },
      "outputs": [],
      "source": [
        "# Import modules and packages\n",
        "import numpy as np\n",
        "import pandas as pd\n",
        "import matplotlib.pyplot as plt\n",
        "import datetime as dt\n",
        "from datetime import datetime\n",
        "import numpy as np \n",
        "import pandas as pd \n",
        "import matplotlib.pyplot as plt\n",
        "from datetime import datetime\n",
        "from keras.models import Sequential\n",
        "from keras.layers import Dense, LSTM, Dropout, GRU\n",
        "from keras.layers import *\n",
        "from sklearn.preprocessing import MinMaxScaler\n",
        "from sklearn.metrics import mean_squared_error, mean_absolute_error,mean_absolute_percentage_error\n",
        "from sklearn.model_selection import train_test_split\n",
        "from keras.callbacks import EarlyStopping\n",
        "from keras.optimizers import Adam, SGD\n",
        "from sklearn.preprocessing import MinMaxScaler\n",
        "import math\n",
        "from sklearn import metrics\n",
        "\n",
        "from keras.callbacks import EarlyStopping, ReduceLROnPlateau, ModelCheckpoint, TensorBoard\n",
        "from sklearn.metrics import mean_squared_error, mean_absolute_error, explained_variance_score, r2_score \n",
        "%matplotlib inline"
      ]
    },
    {
      "cell_type": "code",
      "source": [
        "from google.colab import drive\n",
        "drive.mount('/content/drive')"
      ],
      "metadata": {
        "colab": {
          "base_uri": "https://localhost:8080/"
        },
        "id": "5deeP4VO83i6",
        "outputId": "566d0a6f-3c54-4c5a-fd68-20360a501740"
      },
      "execution_count": 2,
      "outputs": [
        {
          "output_type": "stream",
          "name": "stdout",
          "text": [
            "Mounted at /content/drive\n"
          ]
        }
      ]
    },
    {
      "cell_type": "code",
      "source": [
        "# Importing Training Set\n",
        "dataset_train = pd.read_csv('/content/drive/MyDrive/CSE_438 Project/Dataset/Dataset3.csv')\n",
        "# dataset_train.drop([\"Unnamed: 0\"],axis = 1)\n",
        "# Select features (columns) to be involved intro training and predictions\n",
        "cols = list(dataset_train)[1:6]\n",
        "\n",
        "# Extract dates (will be used in visualization)\n",
        "datelist_train = list(dataset_train['Date'])\n",
        "datelist_train = [dt.datetime.strptime(date, '%m/%d/%Y').date() for date in datelist_train]\n",
        "\n",
        "print('Training set shape == {}'.format(dataset_train.shape))\n",
        "print('All timestamps == {}'.format(len(datelist_train)))\n",
        "print('Featured selected: {}'.format(cols))"
      ],
      "metadata": {
        "colab": {
          "base_uri": "https://localhost:8080/"
        },
        "id": "s5GBYlgH9AAy",
        "outputId": "80006461-2556-4e65-d294-cccae1b69547"
      },
      "execution_count": 3,
      "outputs": [
        {
          "output_type": "stream",
          "name": "stdout",
          "text": [
            "Training set shape == (2006, 7)\n",
            "All timestamps == 2006\n",
            "Featured selected: ['Open', 'High', 'Low', 'Close*', 'Adj Close**']\n"
          ]
        }
      ]
    },
    {
      "cell_type": "code",
      "source": [
        "test=dataset_train.iloc[239:]['Open']\n",
        "print(test)"
      ],
      "metadata": {
        "colab": {
          "base_uri": "https://localhost:8080/"
        },
        "id": "oyjinlOo9FCR",
        "outputId": "3e22e920-a6ee-4ec8-99ba-82d5d9153d2e"
      },
      "execution_count": 4,
      "outputs": [
        {
          "output_type": "stream",
          "name": "stdout",
          "text": [
            "239      4534.50\n",
            "240      4571.50\n",
            "241      4607.50\n",
            "242      4656.75\n",
            "243      4577.00\n",
            "          ...   \n",
            "2001    12000.50\n",
            "2002    11812.00\n",
            "2003    11566.00\n",
            "2004    11500.00\n",
            "2005    11641.50\n",
            "Name: Open, Length: 1767, dtype: float64\n"
          ]
        }
      ]
    },
    {
      "cell_type": "code",
      "source": [
        "dataset_train = dataset_train[cols].astype(str)\n",
        "for i in cols:\n",
        "    for j in range(0, len(dataset_train)):\n",
        "        dataset_train[i][j] = dataset_train[i][j].replace(',', '')\n",
        "\n",
        "dataset_train = dataset_train.astype(float)\n",
        "\n",
        "# Using multiple features (predictors)\n",
        "training_set = dataset_train.to_numpy()\n",
        "\n",
        "print('Shape of training set == {}.'.format(training_set.shape))\n",
        "training_set"
      ],
      "metadata": {
        "colab": {
          "base_uri": "https://localhost:8080/"
        },
        "id": "RrWwP9Fb9OtU",
        "outputId": "d4506e04-5b5f-4eb0-a0cb-bdd0ca048f12"
      },
      "execution_count": 5,
      "outputs": [
        {
          "output_type": "stream",
          "name": "stdout",
          "text": [
            "Shape of training set == (2006, 5).\n"
          ]
        },
        {
          "output_type": "execute_result",
          "data": {
            "text/plain": [
              "array([[ 4240.25,  4272.75,  4201.  ,  4214.25,  4214.25],\n",
              "       [ 4216.  ,  4220.75,  4145.  ,  4161.75,  4161.75],\n",
              "       [ 4166.5 ,  4172.5 ,  4082.  ,  4102.25,  4102.25],\n",
              "       ...,\n",
              "       [11566.  , 11596.25, 11422.5 , 11509.5 , 11509.5 ],\n",
              "       [11500.  , 11685.75, 11433.  , 11645.5 , 11645.5 ],\n",
              "       [11641.5 , 11748.  , 11517.  , 11569.75, 11569.75]])"
            ]
          },
          "metadata": {},
          "execution_count": 5
        }
      ]
    },
    {
      "cell_type": "code",
      "source": [
        "# Feature Scaling\n",
        "from sklearn.preprocessing import StandardScaler\n",
        "\n",
        "sc = StandardScaler()\n",
        "training_set_scaled = sc.fit_transform(training_set)\n",
        "\n",
        "sc_predict = StandardScaler()\n",
        "sc_predict.fit_transform(training_set[:, 0:1])"
      ],
      "metadata": {
        "colab": {
          "base_uri": "https://localhost:8080/"
        },
        "id": "L8Tuyh149Sxh",
        "outputId": "721085e7-0200-4eff-c72d-c72410123373"
      },
      "execution_count": 6,
      "outputs": [
        {
          "output_type": "execute_result",
          "data": {
            "text/plain": [
              "array([[-1.12961762],\n",
              "       [-1.13627479],\n",
              "       [-1.14986365],\n",
              "       ...,\n",
              "       [ 0.8814655 ],\n",
              "       [ 0.86334702],\n",
              "       [ 0.90219195]])"
            ]
          },
          "metadata": {},
          "execution_count": 6
        }
      ]
    },
    {
      "cell_type": "code",
      "source": [
        "# Creating a data structure with 90 timestamps and 1 output\n",
        "X_train = []\n",
        "y_train = []\n",
        "\n",
        "n_future = 60   # Number of days we want top predict into the future\n",
        "n_past = 90     # Number of past days we want to use to predict the future\n",
        "\n",
        "for i in range(n_past, len(training_set_scaled) - n_future +1):\n",
        "    X_train.append(training_set_scaled[i - n_past:i, 0:dataset_train.shape[1] - 1])\n",
        "    y_train.append(training_set_scaled[i + n_future - 1:i + n_future, 0])\n",
        "\n",
        "X_train, y_train = np.array(X_train), np.array(y_train)\n",
        "\n",
        "print('X_train shape == {}.'.format(X_train.shape))\n",
        "print('y_train shape == {}.'.format(y_train.shape))"
      ],
      "metadata": {
        "colab": {
          "base_uri": "https://localhost:8080/"
        },
        "id": "hRGoAEck9YFJ",
        "outputId": "e6288428-5fe3-40e3-eb9c-537247afe49b"
      },
      "execution_count": 7,
      "outputs": [
        {
          "output_type": "stream",
          "name": "stdout",
          "text": [
            "X_train shape == (1857, 90, 4).\n",
            "y_train shape == (1857, 1).\n"
          ]
        }
      ]
    },
    {
      "cell_type": "code",
      "source": [
        "# The GRU architecture\n",
        "modelGRU = Sequential()\n",
        "\n",
        "modelGRU.add(GRU(units=50, return_sequences=True, input_shape=(X_train.shape[1],4)))\n",
        "modelGRU.add(Dropout(0.2))\n",
        "\n",
        "modelGRU.add(GRU(units=50, return_sequences=True, input_shape=(X_train.shape[1],4)))\n",
        "modelGRU.add(Dropout(0.2))\n",
        "\n",
        "modelGRU.add(GRU(units=50, return_sequences=True, input_shape=(X_train.shape[1],4)))\n",
        "modelGRU.add(Dropout(0.2))\n",
        "\n",
        "modelGRU.add(GRU(units=50, return_sequences=True, input_shape=(X_train.shape[1],4)))\n",
        "modelGRU.add(Dropout(0.2))\n",
        "\n",
        "modelGRU.add(GRU(units=50))\n",
        "modelGRU.add(Dropout(0.2))\n",
        "\n",
        "modelGRU.add(Dense(units=1))\n",
        "modelGRU.summary()"
      ],
      "metadata": {
        "colab": {
          "base_uri": "https://localhost:8080/"
        },
        "id": "2TMToeUN9cMe",
        "outputId": "5ce41acf-77bf-45e1-b1d4-954ea9f91e44"
      },
      "execution_count": 32,
      "outputs": [
        {
          "output_type": "stream",
          "name": "stdout",
          "text": [
            "Model: \"sequential_4\"\n",
            "_________________________________________________________________\n",
            " Layer (type)                Output Shape              Param #   \n",
            "=================================================================\n",
            " gru_24 (GRU)                (None, 90, 50)            8400      \n",
            "                                                                 \n",
            " dropout_24 (Dropout)        (None, 90, 50)            0         \n",
            "                                                                 \n",
            " gru_25 (GRU)                (None, 90, 50)            15300     \n",
            "                                                                 \n",
            " dropout_25 (Dropout)        (None, 90, 50)            0         \n",
            "                                                                 \n",
            " gru_26 (GRU)                (None, 90, 50)            15300     \n",
            "                                                                 \n",
            " dropout_26 (Dropout)        (None, 90, 50)            0         \n",
            "                                                                 \n",
            " gru_27 (GRU)                (None, 90, 50)            15300     \n",
            "                                                                 \n",
            " dropout_27 (Dropout)        (None, 90, 50)            0         \n",
            "                                                                 \n",
            " gru_28 (GRU)                (None, 50)                15300     \n",
            "                                                                 \n",
            " dropout_28 (Dropout)        (None, 50)                0         \n",
            "                                                                 \n",
            " dense_4 (Dense)             (None, 1)                 51        \n",
            "                                                                 \n",
            "=================================================================\n",
            "Total params: 69,651\n",
            "Trainable params: 69,651\n",
            "Non-trainable params: 0\n",
            "_________________________________________________________________\n"
          ]
        }
      ]
    },
    {
      "cell_type": "code",
      "source": [
        "modelGRU.compile(optimizer='adam', loss='mean_squared_error')\n",
        "modelGRU.fit(X_train, y_train, epochs=150, batch_size=300)"
      ],
      "metadata": {
        "colab": {
          "base_uri": "https://localhost:8080/"
        },
        "id": "89Cbs1Nf9lCi",
        "outputId": "a6c31af3-b239-4d50-fb88-e937d865ebcd"
      },
      "execution_count": 33,
      "outputs": [
        {
          "output_type": "stream",
          "name": "stdout",
          "text": [
            "Epoch 1/150\n",
            "7/7 [==============================] - 10s 522ms/step - loss: 0.3526\n",
            "Epoch 2/150\n",
            "7/7 [==============================] - 4s 520ms/step - loss: 0.1154\n",
            "Epoch 3/150\n",
            "7/7 [==============================] - 4s 524ms/step - loss: 0.0958\n",
            "Epoch 4/150\n",
            "7/7 [==============================] - 4s 515ms/step - loss: 0.0855\n",
            "Epoch 5/150\n",
            "7/7 [==============================] - 4s 529ms/step - loss: 0.0740\n",
            "Epoch 6/150\n",
            "7/7 [==============================] - 4s 517ms/step - loss: 0.0779\n",
            "Epoch 7/150\n",
            "7/7 [==============================] - 4s 517ms/step - loss: 0.0730\n",
            "Epoch 8/150\n",
            "7/7 [==============================] - 4s 511ms/step - loss: 0.0716\n",
            "Epoch 9/150\n",
            "7/7 [==============================] - 4s 518ms/step - loss: 0.0712\n",
            "Epoch 10/150\n",
            "7/7 [==============================] - 4s 517ms/step - loss: 0.0713\n",
            "Epoch 11/150\n",
            "7/7 [==============================] - 4s 519ms/step - loss: 0.0668\n",
            "Epoch 12/150\n",
            "7/7 [==============================] - 4s 515ms/step - loss: 0.0680\n",
            "Epoch 13/150\n",
            "7/7 [==============================] - 4s 612ms/step - loss: 0.0685\n",
            "Epoch 14/150\n",
            "7/7 [==============================] - 4s 537ms/step - loss: 0.0697\n",
            "Epoch 15/150\n",
            "7/7 [==============================] - 4s 514ms/step - loss: 0.0677\n",
            "Epoch 16/150\n",
            "7/7 [==============================] - 4s 514ms/step - loss: 0.0670\n",
            "Epoch 17/150\n",
            "7/7 [==============================] - 4s 497ms/step - loss: 0.0678\n",
            "Epoch 18/150\n",
            "7/7 [==============================] - 4s 519ms/step - loss: 0.0669\n",
            "Epoch 19/150\n",
            "7/7 [==============================] - 4s 517ms/step - loss: 0.0680\n",
            "Epoch 20/150\n",
            "7/7 [==============================] - 4s 517ms/step - loss: 0.0684\n",
            "Epoch 21/150\n",
            "7/7 [==============================] - 4s 509ms/step - loss: 0.0697\n",
            "Epoch 22/150\n",
            "7/7 [==============================] - 4s 511ms/step - loss: 0.0693\n",
            "Epoch 23/150\n",
            "7/7 [==============================] - 4s 507ms/step - loss: 0.0672\n",
            "Epoch 24/150\n",
            "7/7 [==============================] - 4s 521ms/step - loss: 0.0697\n",
            "Epoch 25/150\n",
            "7/7 [==============================] - 4s 514ms/step - loss: 0.0685\n",
            "Epoch 26/150\n",
            "7/7 [==============================] - 4s 522ms/step - loss: 0.0661\n",
            "Epoch 27/150\n",
            "7/7 [==============================] - 4s 521ms/step - loss: 0.0679\n",
            "Epoch 28/150\n",
            "7/7 [==============================] - 4s 523ms/step - loss: 0.0658\n",
            "Epoch 29/150\n",
            "7/7 [==============================] - 4s 516ms/step - loss: 0.0667\n",
            "Epoch 30/150\n",
            "7/7 [==============================] - 4s 512ms/step - loss: 0.0670\n",
            "Epoch 31/150\n",
            "7/7 [==============================] - 4s 516ms/step - loss: 0.0666\n",
            "Epoch 32/150\n",
            "7/7 [==============================] - 4s 525ms/step - loss: 0.0663\n",
            "Epoch 33/150\n",
            "7/7 [==============================] - 4s 514ms/step - loss: 0.0619\n",
            "Epoch 34/150\n",
            "7/7 [==============================] - 4s 519ms/step - loss: 0.0687\n",
            "Epoch 35/150\n",
            "7/7 [==============================] - 4s 523ms/step - loss: 0.0655\n",
            "Epoch 36/150\n",
            "7/7 [==============================] - 4s 526ms/step - loss: 0.0669\n",
            "Epoch 37/150\n",
            "7/7 [==============================] - 4s 526ms/step - loss: 0.0709\n",
            "Epoch 38/150\n",
            "7/7 [==============================] - 4s 520ms/step - loss: 0.0705\n",
            "Epoch 39/150\n",
            "7/7 [==============================] - 4s 517ms/step - loss: 0.0691\n",
            "Epoch 40/150\n",
            "7/7 [==============================] - 4s 519ms/step - loss: 0.0663\n",
            "Epoch 41/150\n",
            "7/7 [==============================] - 4s 523ms/step - loss: 0.0667\n",
            "Epoch 42/150\n",
            "7/7 [==============================] - 4s 524ms/step - loss: 0.0683\n",
            "Epoch 43/150\n",
            "7/7 [==============================] - 4s 518ms/step - loss: 0.0652\n",
            "Epoch 44/150\n",
            "7/7 [==============================] - 4s 518ms/step - loss: 0.0640\n",
            "Epoch 45/150\n",
            "7/7 [==============================] - 4s 518ms/step - loss: 0.0646\n",
            "Epoch 46/150\n",
            "7/7 [==============================] - 4s 522ms/step - loss: 0.0655\n",
            "Epoch 47/150\n",
            "7/7 [==============================] - 4s 518ms/step - loss: 0.0631\n",
            "Epoch 48/150\n",
            "7/7 [==============================] - 4s 519ms/step - loss: 0.0660\n",
            "Epoch 49/150\n",
            "7/7 [==============================] - 4s 521ms/step - loss: 0.0663\n",
            "Epoch 50/150\n",
            "7/7 [==============================] - 4s 527ms/step - loss: 0.0647\n",
            "Epoch 51/150\n",
            "7/7 [==============================] - 4s 520ms/step - loss: 0.0642\n",
            "Epoch 52/150\n",
            "7/7 [==============================] - 4s 514ms/step - loss: 0.0636\n",
            "Epoch 53/150\n",
            "7/7 [==============================] - 4s 519ms/step - loss: 0.0613\n",
            "Epoch 54/150\n",
            "7/7 [==============================] - 4s 518ms/step - loss: 0.0618\n",
            "Epoch 55/150\n",
            "7/7 [==============================] - 4s 525ms/step - loss: 0.0637\n",
            "Epoch 56/150\n",
            "7/7 [==============================] - 4s 522ms/step - loss: 0.0630\n",
            "Epoch 57/150\n",
            "7/7 [==============================] - 4s 519ms/step - loss: 0.0644\n",
            "Epoch 58/150\n",
            "7/7 [==============================] - 4s 528ms/step - loss: 0.0643\n",
            "Epoch 59/150\n",
            "7/7 [==============================] - 4s 522ms/step - loss: 0.0629\n",
            "Epoch 60/150\n",
            "7/7 [==============================] - 4s 517ms/step - loss: 0.0630\n",
            "Epoch 61/150\n",
            "7/7 [==============================] - 4s 513ms/step - loss: 0.0645\n",
            "Epoch 62/150\n",
            "7/7 [==============================] - 4s 534ms/step - loss: 0.0638\n",
            "Epoch 63/150\n",
            "7/7 [==============================] - 4s 523ms/step - loss: 0.0658\n",
            "Epoch 64/150\n",
            "7/7 [==============================] - 4s 523ms/step - loss: 0.0634\n",
            "Epoch 65/150\n",
            "7/7 [==============================] - 4s 531ms/step - loss: 0.0627\n",
            "Epoch 66/150\n",
            "7/7 [==============================] - 4s 523ms/step - loss: 0.0650\n",
            "Epoch 67/150\n",
            "7/7 [==============================] - 4s 528ms/step - loss: 0.0628\n",
            "Epoch 68/150\n",
            "7/7 [==============================] - 4s 517ms/step - loss: 0.0607\n",
            "Epoch 69/150\n",
            "7/7 [==============================] - 4s 518ms/step - loss: 0.0629\n",
            "Epoch 70/150\n",
            "7/7 [==============================] - 4s 522ms/step - loss: 0.0612\n",
            "Epoch 71/150\n",
            "7/7 [==============================] - 4s 514ms/step - loss: 0.0629\n",
            "Epoch 72/150\n",
            "7/7 [==============================] - 5s 635ms/step - loss: 0.0654\n",
            "Epoch 73/150\n",
            "7/7 [==============================] - 4s 518ms/step - loss: 0.0646\n",
            "Epoch 74/150\n",
            "7/7 [==============================] - 4s 517ms/step - loss: 0.0631\n",
            "Epoch 75/150\n",
            "7/7 [==============================] - 4s 513ms/step - loss: 0.0642\n",
            "Epoch 76/150\n",
            "7/7 [==============================] - 4s 519ms/step - loss: 0.0646\n",
            "Epoch 77/150\n",
            "7/7 [==============================] - 4s 520ms/step - loss: 0.0618\n",
            "Epoch 78/150\n",
            "7/7 [==============================] - 4s 520ms/step - loss: 0.0607\n",
            "Epoch 79/150\n",
            "7/7 [==============================] - 4s 516ms/step - loss: 0.0634\n",
            "Epoch 80/150\n",
            "7/7 [==============================] - 4s 523ms/step - loss: 0.0626\n",
            "Epoch 81/150\n",
            "7/7 [==============================] - 4s 518ms/step - loss: 0.0625\n",
            "Epoch 82/150\n",
            "7/7 [==============================] - 4s 520ms/step - loss: 0.0645\n",
            "Epoch 83/150\n",
            "7/7 [==============================] - 4s 523ms/step - loss: 0.0597\n",
            "Epoch 84/150\n",
            "7/7 [==============================] - 4s 514ms/step - loss: 0.0623\n",
            "Epoch 85/150\n",
            "7/7 [==============================] - 4s 524ms/step - loss: 0.0640\n",
            "Epoch 86/150\n",
            "7/7 [==============================] - 4s 513ms/step - loss: 0.0651\n",
            "Epoch 87/150\n",
            "7/7 [==============================] - 4s 519ms/step - loss: 0.0635\n",
            "Epoch 88/150\n",
            "7/7 [==============================] - 4s 518ms/step - loss: 0.0636\n",
            "Epoch 89/150\n",
            "7/7 [==============================] - 4s 520ms/step - loss: 0.0651\n",
            "Epoch 90/150\n",
            "7/7 [==============================] - 4s 516ms/step - loss: 0.0653\n",
            "Epoch 91/150\n",
            "7/7 [==============================] - 4s 519ms/step - loss: 0.0646\n",
            "Epoch 92/150\n",
            "7/7 [==============================] - 4s 523ms/step - loss: 0.0634\n",
            "Epoch 93/150\n",
            "7/7 [==============================] - 4s 517ms/step - loss: 0.0633\n",
            "Epoch 94/150\n",
            "7/7 [==============================] - 4s 516ms/step - loss: 0.0605\n",
            "Epoch 95/150\n",
            "7/7 [==============================] - 4s 516ms/step - loss: 0.0653\n",
            "Epoch 96/150\n",
            "7/7 [==============================] - 4s 519ms/step - loss: 0.0626\n",
            "Epoch 97/150\n",
            "7/7 [==============================] - 4s 516ms/step - loss: 0.0580\n",
            "Epoch 98/150\n",
            "7/7 [==============================] - 4s 518ms/step - loss: 0.0617\n",
            "Epoch 99/150\n",
            "7/7 [==============================] - 4s 520ms/step - loss: 0.0585\n",
            "Epoch 100/150\n",
            "7/7 [==============================] - 4s 532ms/step - loss: 0.0617\n",
            "Epoch 101/150\n",
            "7/7 [==============================] - 4s 518ms/step - loss: 0.0605\n",
            "Epoch 102/150\n",
            "7/7 [==============================] - 4s 530ms/step - loss: 0.0591\n",
            "Epoch 103/150\n",
            "7/7 [==============================] - 4s 513ms/step - loss: 0.0578\n",
            "Epoch 104/150\n",
            "7/7 [==============================] - 4s 521ms/step - loss: 0.0596\n",
            "Epoch 105/150\n",
            "7/7 [==============================] - 4s 515ms/step - loss: 0.0710\n",
            "Epoch 106/150\n",
            "7/7 [==============================] - 4s 521ms/step - loss: 0.0618\n",
            "Epoch 107/150\n",
            "7/7 [==============================] - 4s 520ms/step - loss: 0.0644\n",
            "Epoch 108/150\n",
            "7/7 [==============================] - 4s 511ms/step - loss: 0.0594\n",
            "Epoch 109/150\n",
            "7/7 [==============================] - 4s 512ms/step - loss: 0.0629\n",
            "Epoch 110/150\n",
            "7/7 [==============================] - 4s 520ms/step - loss: 0.0607\n",
            "Epoch 111/150\n",
            "7/7 [==============================] - 4s 515ms/step - loss: 0.0566\n",
            "Epoch 112/150\n",
            "7/7 [==============================] - 4s 513ms/step - loss: 0.0576\n",
            "Epoch 113/150\n",
            "7/7 [==============================] - 4s 519ms/step - loss: 0.0578\n",
            "Epoch 114/150\n",
            "7/7 [==============================] - 4s 523ms/step - loss: 0.0537\n",
            "Epoch 115/150\n",
            "7/7 [==============================] - 4s 521ms/step - loss: 0.0567\n",
            "Epoch 116/150\n",
            "7/7 [==============================] - 4s 521ms/step - loss: 0.0548\n",
            "Epoch 117/150\n",
            "7/7 [==============================] - 4s 517ms/step - loss: 0.0500\n",
            "Epoch 118/150\n",
            "7/7 [==============================] - 4s 515ms/step - loss: 0.0633\n",
            "Epoch 119/150\n",
            "7/7 [==============================] - 4s 525ms/step - loss: 0.0596\n",
            "Epoch 120/150\n",
            "7/7 [==============================] - 4s 516ms/step - loss: 0.0608\n",
            "Epoch 121/150\n",
            "7/7 [==============================] - 4s 521ms/step - loss: 0.0551\n",
            "Epoch 122/150\n",
            "7/7 [==============================] - 4s 512ms/step - loss: 0.0539\n",
            "Epoch 123/150\n",
            "7/7 [==============================] - 4s 523ms/step - loss: 0.0532\n",
            "Epoch 124/150\n",
            "7/7 [==============================] - 4s 513ms/step - loss: 0.0516\n",
            "Epoch 125/150\n",
            "7/7 [==============================] - 4s 523ms/step - loss: 0.0500\n",
            "Epoch 126/150\n",
            "7/7 [==============================] - 4s 520ms/step - loss: 0.0444\n",
            "Epoch 127/150\n",
            "7/7 [==============================] - 4s 521ms/step - loss: 0.0525\n",
            "Epoch 128/150\n",
            "7/7 [==============================] - 4s 525ms/step - loss: 0.0613\n",
            "Epoch 129/150\n",
            "7/7 [==============================] - 4s 521ms/step - loss: 0.0500\n",
            "Epoch 130/150\n",
            "7/7 [==============================] - 5s 725ms/step - loss: 0.0481\n",
            "Epoch 131/150\n",
            "7/7 [==============================] - 4s 524ms/step - loss: 0.0459\n",
            "Epoch 132/150\n",
            "7/7 [==============================] - 4s 520ms/step - loss: 0.0448\n",
            "Epoch 133/150\n",
            "7/7 [==============================] - 4s 515ms/step - loss: 0.0401\n",
            "Epoch 134/150\n",
            "7/7 [==============================] - 4s 516ms/step - loss: 0.0334\n",
            "Epoch 135/150\n",
            "7/7 [==============================] - 4s 528ms/step - loss: 0.0355\n",
            "Epoch 136/150\n",
            "7/7 [==============================] - 4s 526ms/step - loss: 0.0345\n",
            "Epoch 137/150\n",
            "7/7 [==============================] - 4s 517ms/step - loss: 0.0344\n",
            "Epoch 138/150\n",
            "7/7 [==============================] - 4s 522ms/step - loss: 0.0348\n",
            "Epoch 139/150\n",
            "7/7 [==============================] - 4s 526ms/step - loss: 0.0340\n",
            "Epoch 140/150\n",
            "7/7 [==============================] - 4s 521ms/step - loss: 0.0373\n",
            "Epoch 141/150\n",
            "7/7 [==============================] - 4s 517ms/step - loss: 0.0378\n",
            "Epoch 142/150\n",
            "7/7 [==============================] - 4s 518ms/step - loss: 0.0318\n",
            "Epoch 143/150\n",
            "7/7 [==============================] - 4s 515ms/step - loss: 0.0299\n",
            "Epoch 144/150\n",
            "7/7 [==============================] - 4s 515ms/step - loss: 0.0313\n",
            "Epoch 145/150\n",
            "7/7 [==============================] - 4s 520ms/step - loss: 0.0283\n",
            "Epoch 146/150\n",
            "7/7 [==============================] - 4s 520ms/step - loss: 0.0345\n",
            "Epoch 147/150\n",
            "7/7 [==============================] - 4s 513ms/step - loss: 0.0274\n",
            "Epoch 148/150\n",
            "7/7 [==============================] - 4s 514ms/step - loss: 0.0275\n",
            "Epoch 149/150\n",
            "7/7 [==============================] - 4s 521ms/step - loss: 0.0280\n",
            "Epoch 150/150\n",
            "7/7 [==============================] - 4s 518ms/step - loss: 0.0273\n"
          ]
        },
        {
          "output_type": "execute_result",
          "data": {
            "text/plain": [
              "<keras.callbacks.History at 0x7f6cb77375b0>"
            ]
          },
          "metadata": {},
          "execution_count": 33
        }
      ]
    },
    {
      "cell_type": "code",
      "source": [
        "# Generate list of sequence of days for predictions\n",
        "datelist_future = pd.date_range(datelist_train[-1], periods=n_future, freq='1d').tolist()\n",
        "\n",
        "\n",
        "# Convert Pandas Timestamp to Datetime object (for transformation) --> FUTURE\n",
        "datelist_future_ = []\n",
        "for this_timestamp in datelist_future:\n",
        "    datelist_future_.append(this_timestamp.date())"
      ],
      "metadata": {
        "id": "x7R4Lle7Bp6A"
      },
      "execution_count": 34,
      "outputs": []
    },
    {
      "cell_type": "code",
      "source": [
        "# Perform predictions\n",
        "predictions_future = modelGRU.predict(X_train[-n_future:])\n",
        "\n",
        "predictions_train = modelGRU.predict(X_train[n_past:])"
      ],
      "metadata": {
        "colab": {
          "base_uri": "https://localhost:8080/"
        },
        "id": "_Viksl4_BujX",
        "outputId": "a6ecdfae-1c88-43b7-f1f4-9b595b2cb8b2"
      },
      "execution_count": 35,
      "outputs": [
        {
          "output_type": "stream",
          "name": "stdout",
          "text": [
            "2/2 [==============================] - 1s 36ms/step\n",
            "56/56 [==============================] - 2s 31ms/step\n"
          ]
        }
      ]
    },
    {
      "cell_type": "code",
      "source": [
        "# Inverse the predictions to original measurements\n",
        "\n",
        "# ---> Special function: convert <datetime.date> to <Timestamp>\n",
        "def datetime_to_timestamp(x):\n",
        "   \n",
        "    return datetime.strptime(x.strftime('%Y%m%d'), '%Y%m%d')\n",
        "\n",
        "\n",
        "y_pred_future = sc_predict.inverse_transform(predictions_future)\n",
        "y_pred_train = sc_predict.inverse_transform(predictions_train)\n",
        "\n",
        "PREDICTIONS_FUTURE = pd.DataFrame(y_pred_future, columns=['Open']).set_index(pd.Series(datelist_future))\n",
        "PREDICTION_TRAIN = pd.DataFrame(y_pred_train, columns=['Open']).set_index(pd.Series(datelist_train[2 * n_past + n_future -1:]))\n",
        "\n",
        "# Convert <datetime.date> to <Timestamp> for PREDCITION_TRAIN\n",
        "PREDICTION_TRAIN.index = PREDICTION_TRAIN.index.to_series().apply(datetime_to_timestamp)\n",
        "\n",
        "PREDICTION_TRAIN.head(3)"
      ],
      "metadata": {
        "colab": {
          "base_uri": "https://localhost:8080/",
          "height": 143
        },
        "id": "fBehniUnBzFx",
        "outputId": "4cef3d11-d19b-4238-9508-dfacb7db39a4"
      },
      "execution_count": 36,
      "outputs": [
        {
          "output_type": "execute_result",
          "data": {
            "text/plain": [
              "                   Open\n",
              "2015-12-14  4845.729980\n",
              "2015-12-15  4851.107422\n",
              "2015-12-16  4852.802734"
            ],
            "text/html": [
              "\n",
              "  <div id=\"df-4d67bee5-8c06-454e-b483-2071ba4eeaa7\">\n",
              "    <div class=\"colab-df-container\">\n",
              "      <div>\n",
              "<style scoped>\n",
              "    .dataframe tbody tr th:only-of-type {\n",
              "        vertical-align: middle;\n",
              "    }\n",
              "\n",
              "    .dataframe tbody tr th {\n",
              "        vertical-align: top;\n",
              "    }\n",
              "\n",
              "    .dataframe thead th {\n",
              "        text-align: right;\n",
              "    }\n",
              "</style>\n",
              "<table border=\"1\" class=\"dataframe\">\n",
              "  <thead>\n",
              "    <tr style=\"text-align: right;\">\n",
              "      <th></th>\n",
              "      <th>Open</th>\n",
              "    </tr>\n",
              "  </thead>\n",
              "  <tbody>\n",
              "    <tr>\n",
              "      <th>2015-12-14</th>\n",
              "      <td>4845.729980</td>\n",
              "    </tr>\n",
              "    <tr>\n",
              "      <th>2015-12-15</th>\n",
              "      <td>4851.107422</td>\n",
              "    </tr>\n",
              "    <tr>\n",
              "      <th>2015-12-16</th>\n",
              "      <td>4852.802734</td>\n",
              "    </tr>\n",
              "  </tbody>\n",
              "</table>\n",
              "</div>\n",
              "      <button class=\"colab-df-convert\" onclick=\"convertToInteractive('df-4d67bee5-8c06-454e-b483-2071ba4eeaa7')\"\n",
              "              title=\"Convert this dataframe to an interactive table.\"\n",
              "              style=\"display:none;\">\n",
              "        \n",
              "  <svg xmlns=\"http://www.w3.org/2000/svg\" height=\"24px\"viewBox=\"0 0 24 24\"\n",
              "       width=\"24px\">\n",
              "    <path d=\"M0 0h24v24H0V0z\" fill=\"none\"/>\n",
              "    <path d=\"M18.56 5.44l.94 2.06.94-2.06 2.06-.94-2.06-.94-.94-2.06-.94 2.06-2.06.94zm-11 1L8.5 8.5l.94-2.06 2.06-.94-2.06-.94L8.5 2.5l-.94 2.06-2.06.94zm10 10l.94 2.06.94-2.06 2.06-.94-2.06-.94-.94-2.06-.94 2.06-2.06.94z\"/><path d=\"M17.41 7.96l-1.37-1.37c-.4-.4-.92-.59-1.43-.59-.52 0-1.04.2-1.43.59L10.3 9.45l-7.72 7.72c-.78.78-.78 2.05 0 2.83L4 21.41c.39.39.9.59 1.41.59.51 0 1.02-.2 1.41-.59l7.78-7.78 2.81-2.81c.8-.78.8-2.07 0-2.86zM5.41 20L4 18.59l7.72-7.72 1.47 1.35L5.41 20z\"/>\n",
              "  </svg>\n",
              "      </button>\n",
              "      \n",
              "  <style>\n",
              "    .colab-df-container {\n",
              "      display:flex;\n",
              "      flex-wrap:wrap;\n",
              "      gap: 12px;\n",
              "    }\n",
              "\n",
              "    .colab-df-convert {\n",
              "      background-color: #E8F0FE;\n",
              "      border: none;\n",
              "      border-radius: 50%;\n",
              "      cursor: pointer;\n",
              "      display: none;\n",
              "      fill: #1967D2;\n",
              "      height: 32px;\n",
              "      padding: 0 0 0 0;\n",
              "      width: 32px;\n",
              "    }\n",
              "\n",
              "    .colab-df-convert:hover {\n",
              "      background-color: #E2EBFA;\n",
              "      box-shadow: 0px 1px 2px rgba(60, 64, 67, 0.3), 0px 1px 3px 1px rgba(60, 64, 67, 0.15);\n",
              "      fill: #174EA6;\n",
              "    }\n",
              "\n",
              "    [theme=dark] .colab-df-convert {\n",
              "      background-color: #3B4455;\n",
              "      fill: #D2E3FC;\n",
              "    }\n",
              "\n",
              "    [theme=dark] .colab-df-convert:hover {\n",
              "      background-color: #434B5C;\n",
              "      box-shadow: 0px 1px 3px 1px rgba(0, 0, 0, 0.15);\n",
              "      filter: drop-shadow(0px 1px 2px rgba(0, 0, 0, 0.3));\n",
              "      fill: #FFFFFF;\n",
              "    }\n",
              "  </style>\n",
              "\n",
              "      <script>\n",
              "        const buttonEl =\n",
              "          document.querySelector('#df-4d67bee5-8c06-454e-b483-2071ba4eeaa7 button.colab-df-convert');\n",
              "        buttonEl.style.display =\n",
              "          google.colab.kernel.accessAllowed ? 'block' : 'none';\n",
              "\n",
              "        async function convertToInteractive(key) {\n",
              "          const element = document.querySelector('#df-4d67bee5-8c06-454e-b483-2071ba4eeaa7');\n",
              "          const dataTable =\n",
              "            await google.colab.kernel.invokeFunction('convertToInteractive',\n",
              "                                                     [key], {});\n",
              "          if (!dataTable) return;\n",
              "\n",
              "          const docLinkHtml = 'Like what you see? Visit the ' +\n",
              "            '<a target=\"_blank\" href=https://colab.research.google.com/notebooks/data_table.ipynb>data table notebook</a>'\n",
              "            + ' to learn more about interactive tables.';\n",
              "          element.innerHTML = '';\n",
              "          dataTable['output_type'] = 'display_data';\n",
              "          await google.colab.output.renderOutput(dataTable, element);\n",
              "          const docLink = document.createElement('div');\n",
              "          docLink.innerHTML = docLinkHtml;\n",
              "          element.appendChild(docLink);\n",
              "        }\n",
              "      </script>\n",
              "    </div>\n",
              "  </div>\n",
              "  "
            ]
          },
          "metadata": {},
          "execution_count": 36
        }
      ]
    },
    {
      "cell_type": "code",
      "source": [
        "# Set plot size \n",
        "from pylab import rcParams\n",
        "rcParams['figure.figsize'] = 14, 5\n",
        "\n",
        "# Plot parameters\n",
        "START_DATE_FOR_PLOTTING = '2015-08-28'\n",
        "\n",
        "plt.plot(PREDICTIONS_FUTURE.index, PREDICTIONS_FUTURE['Open'], color='r', label='Predicted Stock Price')\n",
        "plt.plot(PREDICTION_TRAIN.index, PREDICTION_TRAIN.loc[START_DATE_FOR_PLOTTING:]['Open'], color='orange', label='Training predictions')\n",
        "plt.plot(datelist_train, dataset_train['Open'], color='b', label='Actual Stock Price')\n",
        "\n",
        "plt.axvline(x = min(PREDICTIONS_FUTURE.index), color='green', linewidth=2, linestyle='--')\n",
        "\n",
        "plt.grid(which='major', color='#cccccc', alpha=0.5)\n",
        "\n",
        "plt.legend(shadow=True)\n",
        "plt.title(\"Prediction Using GRU\")\n",
        "plt.show()\n"
      ],
      "metadata": {
        "colab": {
          "base_uri": "https://localhost:8080/",
          "height": 336
        },
        "id": "IxyoA2nyB2sy",
        "outputId": "c666a9a4-8b91-4e0b-cbbf-26638a90e78e"
      },
      "execution_count": 37,
      "outputs": [
        {
          "output_type": "display_data",
          "data": {
            "text/plain": [
              "<Figure size 1008x360 with 1 Axes>"
            ],
            "image/png": "[encoded data removed]"
          },
          "metadata": {
            "needs_background": "light"
          }
        }
      ]
    },
    {
      "cell_type": "code",
      "source": [
        "pred = np.array(PREDICTION_TRAIN[\"Open\"])\n",
        "diff = pred - test\n",
        "diffLSTM=list(diff)[1:]\n",
        "diffLSTM=np.array(diffLSTM)\n",
        "print(\"MSE:\", np.mean(diffLSTM**2))\n",
        "print(\"MAE:\", np.mean(abs(diffLSTM)))\n",
        "print(\"RMSE:\", np.sqrt(np.mean(diffLSTM**2)))"
      ],
      "metadata": {
        "colab": {
          "base_uri": "https://localhost:8080/"
        },
        "id": "XtQlxzwoH7Qm",
        "outputId": "312b53cc-ec4d-4008-f158-6bb07734d6b5"
      },
      "execution_count": 38,
      "outputs": [
        {
          "output_type": "stream",
          "name": "stdout",
          "text": [
            "MSE: 282879.97331544675\n",
            "MAE: 400.9882605132538\n",
            "RMSE: 531.8646193491787\n"
          ]
        }
      ]
    },
    {
      "cell_type": "code",
      "source": [
        "pred=[]\n",
        "for val in PREDICTION_TRAIN['Open']:\n",
        "  pred.append(val)\n",
        "for i in range(len(pred)):\n",
        "  pred[i]=int(pred[i])\n",
        "\n",
        "testValues=[]\n",
        "for val in test:\n",
        "  testValues.append(float(val))\n",
        "\n",
        "from sklearn.metrics import accuracy_score\n",
        "from sklearn.metrics import mean_squared_error, mean_absolute_error\n",
        "from sklearn.metrics import r2_score\n",
        "\n",
        "print('MSE: ',np.sqrt(mean_squared_error(testValues, pred)))\n",
        "print(\"Mean Absolute Error: \",mean_absolute_error(testValues, pred))\n",
        "print(\"R2 Score: \",r2_score(testValues, pred))\n",
        "print(\"MAPE Percentage Error: \",mean_absolute_percentage_error(testValues, pred))"
      ],
      "metadata": {
        "colab": {
          "base_uri": "https://localhost:8080/"
        },
        "id": "XH9na3lSICcq",
        "outputId": "8ebc7505-fdc8-4ec8-ca72-debb3abcf14c"
      },
      "execution_count": 39,
      "outputs": [
        {
          "output_type": "stream",
          "name": "stdout",
          "text": [
            "MSE:  531.6756208741554\n",
            "Mean Absolute Error:  400.9248726655348\n",
            "R2 Score:  0.977718931357642\n",
            "MAPE Percentage Error:  0.049014507460116055\n"
          ]
        }
      ]
    }
  ]
}