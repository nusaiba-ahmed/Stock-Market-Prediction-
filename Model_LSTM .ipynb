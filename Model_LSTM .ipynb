{
  "cells": [
    {
      "cell_type": "code",
      "execution_count": 1,
      "metadata": {
        "id": "_f-DDMj8xLKE"
      },
      "outputs": [],
      "source": [
        "# Import modules and packages\n",
        "import numpy as np\n",
        "import pandas as pd\n",
        "import matplotlib.pyplot as plt\n",
        "import datetime as dt\n",
        "from datetime import datetime\n",
        "import numpy as np \n",
        "import pandas as pd \n",
        "import matplotlib.pyplot as plt\n",
        "from datetime import datetime\n",
        "from keras.models import Sequential\n",
        "from keras.layers import Dense, LSTM, Dropout, GRU\n",
        "from keras.layers import *\n",
        "from sklearn.preprocessing import MinMaxScaler\n",
        "from sklearn.metrics import mean_squared_error, mean_absolute_error,mean_absolute_percentage_error\n",
        "from sklearn.model_selection import train_test_split\n",
        "from keras.callbacks import EarlyStopping\n",
        "from keras.optimizers import Adam, SGD\n",
        "from sklearn.preprocessing import MinMaxScaler\n",
        "import math\n",
        "from sklearn import metrics\n",
        "\n",
        "from keras.callbacks import EarlyStopping, ReduceLROnPlateau, ModelCheckpoint, TensorBoard\n",
        "from sklearn.metrics import mean_squared_error, mean_absolute_error, explained_variance_score, r2_score \n",
        "%matplotlib inline"
      ]
    },
    {
      "cell_type": "code",
      "source": [
        "from google.colab import drive\n",
        "drive.mount('/content/drive')"
      ],
      "metadata": {
        "colab": {
          "base_uri": "https://localhost:8080/"
        },
        "id": "5Pm89ZXhxOh-",
        "outputId": "d8bf9485-9069-4b5f-f5a0-2e39a3d32f30"
      },
      "execution_count": 2,
      "outputs": [
        {
          "output_type": "stream",
          "name": "stdout",
          "text": [
            "Mounted at /content/drive\n"
          ]
        }
      ]
    },
    {
      "cell_type": "code",
      "execution_count": 3,
      "metadata": {
        "colab": {
          "base_uri": "https://localhost:8080/"
        },
        "id": "C5wUDEKbxLKK",
        "outputId": "9e6ae6ef-3814-43f5-dca6-2d354926c238"
      },
      "outputs": [
        {
          "output_type": "stream",
          "name": "stdout",
          "text": [
            "Training set shape == (2006, 7)\n",
            "All timestamps == 2006\n",
            "Featured selected: ['Open', 'High', 'Low', 'Close*', 'Adj Close**']\n"
          ]
        }
      ],
      "source": [
        "# Importing Training Set\n",
        "dataset_train = pd.read_csv('/content/drive/MyDrive/CSE_438 Project/Dataset/Dataset3.csv')\n",
        "# dataset_train.drop([\"Unnamed: 0\"],axis = 1)\n",
        "# Select features (columns) to be involved intro training and predictions\n",
        "cols = list(dataset_train)[1:6]\n",
        "\n",
        "# Extract dates (will be used in visualization)\n",
        "datelist_train = list(dataset_train['Date'])\n",
        "datelist_train = [dt.datetime.strptime(date, '%m/%d/%Y').date() for date in datelist_train]\n",
        "\n",
        "print('Training set shape == {}'.format(dataset_train.shape))\n",
        "print('All timestamps == {}'.format(len(datelist_train)))\n",
        "print('Featured selected: {}'.format(cols))"
      ]
    },
    {
      "cell_type": "code",
      "execution_count": 4,
      "metadata": {
        "colab": {
          "base_uri": "https://localhost:8080/",
          "height": 206
        },
        "id": "N74ZiXVrxLKO",
        "outputId": "490a1011-8458-4148-cd16-d3bc885f338d"
      },
      "outputs": [
        {
          "output_type": "execute_result",
          "data": {
            "text/plain": [
              "       Date     Open     High      Low   Close*  Adj Close**    Volume\n",
              "0  1/2/2015  4240.25  4272.75  4201.00  4214.25      4214.25  229555.0\n",
              "1  1/5/2015  4216.00  4220.75  4145.00  4161.75      4161.75  313771.0\n",
              "2  1/6/2015  4166.50  4172.50  4082.00  4102.25      4102.25  426154.0\n",
              "3  1/7/2015  4105.50  4163.25  4102.75  4151.50      4151.50  328184.0\n",
              "4  1/8/2015  4152.25  4242.75  4152.25  4232.25      4232.25  272056.0"
            ],
            "text/html": [
              "\n",
              "  <div id=\"df-86a62191-d0a4-45f7-87a0-939f9d0e9cbb\">\n",
              "    <div class=\"colab-df-container\">\n",
              "      <div>\n",
              "<style scoped>\n",
              "    .dataframe tbody tr th:only-of-type {\n",
              "        vertical-align: middle;\n",
              "    }\n",
              "\n",
              "    .dataframe tbody tr th {\n",
              "        vertical-align: top;\n",
              "    }\n",
              "\n",
              "    .dataframe thead th {\n",
              "        text-align: right;\n",
              "    }\n",
              "</style>\n",
              "<table border=\"1\" class=\"dataframe\">\n",
              "  <thead>\n",
              "    <tr style=\"text-align: right;\">\n",
              "      <th></th>\n",
              "      <th>Date</th>\n",
              "      <th>Open</th>\n",
              "      <th>High</th>\n",
              "      <th>Low</th>\n",
              "      <th>Close*</th>\n",
              "      <th>Adj Close**</th>\n",
              "      <th>Volume</th>\n",
              "    </tr>\n",
              "  </thead>\n",
              "  <tbody>\n",
              "    <tr>\n",
              "      <th>0</th>\n",
              "      <td>1/2/2015</td>\n",
              "      <td>4240.25</td>\n",
              "      <td>4272.75</td>\n",
              "      <td>4201.00</td>\n",
              "      <td>4214.25</td>\n",
              "      <td>4214.25</td>\n",
              "      <td>229555.0</td>\n",
              "    </tr>\n",
              "    <tr>\n",
              "      <th>1</th>\n",
              "      <td>1/5/2015</td>\n",
              "      <td>4216.00</td>\n",
              "      <td>4220.75</td>\n",
              "      <td>4145.00</td>\n",
              "      <td>4161.75</td>\n",
              "      <td>4161.75</td>\n",
              "      <td>313771.0</td>\n",
              "    </tr>\n",
              "    <tr>\n",
              "      <th>2</th>\n",
              "      <td>1/6/2015</td>\n",
              "      <td>4166.50</td>\n",
              "      <td>4172.50</td>\n",
              "      <td>4082.00</td>\n",
              "      <td>4102.25</td>\n",
              "      <td>4102.25</td>\n",
              "      <td>426154.0</td>\n",
              "    </tr>\n",
              "    <tr>\n",
              "      <th>3</th>\n",
              "      <td>1/7/2015</td>\n",
              "      <td>4105.50</td>\n",
              "      <td>4163.25</td>\n",
              "      <td>4102.75</td>\n",
              "      <td>4151.50</td>\n",
              "      <td>4151.50</td>\n",
              "      <td>328184.0</td>\n",
              "    </tr>\n",
              "    <tr>\n",
              "      <th>4</th>\n",
              "      <td>1/8/2015</td>\n",
              "      <td>4152.25</td>\n",
              "      <td>4242.75</td>\n",
              "      <td>4152.25</td>\n",
              "      <td>4232.25</td>\n",
              "      <td>4232.25</td>\n",
              "      <td>272056.0</td>\n",
              "    </tr>\n",
              "  </tbody>\n",
              "</table>\n",
              "</div>\n",
              "      <button class=\"colab-df-convert\" onclick=\"convertToInteractive('df-86a62191-d0a4-45f7-87a0-939f9d0e9cbb')\"\n",
              "              title=\"Convert this dataframe to an interactive table.\"\n",
              "              style=\"display:none;\">\n",
              "        \n",
              "  <svg xmlns=\"http://www.w3.org/2000/svg\" height=\"24px\"viewBox=\"0 0 24 24\"\n",
              "       width=\"24px\">\n",
              "    <path d=\"M0 0h24v24H0V0z\" fill=\"none\"/>\n",
              "    <path d=\"M18.56 5.44l.94 2.06.94-2.06 2.06-.94-2.06-.94-.94-2.06-.94 2.06-2.06.94zm-11 1L8.5 8.5l.94-2.06 2.06-.94-2.06-.94L8.5 2.5l-.94 2.06-2.06.94zm10 10l.94 2.06.94-2.06 2.06-.94-2.06-.94-.94-2.06-.94 2.06-2.06.94z\"/><path d=\"M17.41 7.96l-1.37-1.37c-.4-.4-.92-.59-1.43-.59-.52 0-1.04.2-1.43.59L10.3 9.45l-7.72 7.72c-.78.78-.78 2.05 0 2.83L4 21.41c.39.39.9.59 1.41.59.51 0 1.02-.2 1.41-.59l7.78-7.78 2.81-2.81c.8-.78.8-2.07 0-2.86zM5.41 20L4 18.59l7.72-7.72 1.47 1.35L5.41 20z\"/>\n",
              "  </svg>\n",
              "      </button>\n",
              "      \n",
              "  <style>\n",
              "    .colab-df-container {\n",
              "      display:flex;\n",
              "      flex-wrap:wrap;\n",
              "      gap: 12px;\n",
              "    }\n",
              "\n",
              "    .colab-df-convert {\n",
              "      background-color: #E8F0FE;\n",
              "      border: none;\n",
              "      border-radius: 50%;\n",
              "      cursor: pointer;\n",
              "      display: none;\n",
              "      fill: #1967D2;\n",
              "      height: 32px;\n",
              "      padding: 0 0 0 0;\n",
              "      width: 32px;\n",
              "    }\n",
              "\n",
              "    .colab-df-convert:hover {\n",
              "      background-color: #E2EBFA;\n",
              "      box-shadow: 0px 1px 2px rgba(60, 64, 67, 0.3), 0px 1px 3px 1px rgba(60, 64, 67, 0.15);\n",
              "      fill: #174EA6;\n",
              "    }\n",
              "\n",
              "    [theme=dark] .colab-df-convert {\n",
              "      background-color: #3B4455;\n",
              "      fill: #D2E3FC;\n",
              "    }\n",
              "\n",
              "    [theme=dark] .colab-df-convert:hover {\n",
              "      background-color: #434B5C;\n",
              "      box-shadow: 0px 1px 3px 1px rgba(0, 0, 0, 0.15);\n",
              "      filter: drop-shadow(0px 1px 2px rgba(0, 0, 0, 0.3));\n",
              "      fill: #FFFFFF;\n",
              "    }\n",
              "  </style>\n",
              "\n",
              "      <script>\n",
              "        const buttonEl =\n",
              "          document.querySelector('#df-86a62191-d0a4-45f7-87a0-939f9d0e9cbb button.colab-df-convert');\n",
              "        buttonEl.style.display =\n",
              "          google.colab.kernel.accessAllowed ? 'block' : 'none';\n",
              "\n",
              "        async function convertToInteractive(key) {\n",
              "          const element = document.querySelector('#df-86a62191-d0a4-45f7-87a0-939f9d0e9cbb');\n",
              "          const dataTable =\n",
              "            await google.colab.kernel.invokeFunction('convertToInteractive',\n",
              "                                                     [key], {});\n",
              "          if (!dataTable) return;\n",
              "\n",
              "          const docLinkHtml = 'Like what you see? Visit the ' +\n",
              "            '<a target=\"_blank\" href=https://colab.research.google.com/notebooks/data_table.ipynb>data table notebook</a>'\n",
              "            + ' to learn more about interactive tables.';\n",
              "          element.innerHTML = '';\n",
              "          dataTable['output_type'] = 'display_data';\n",
              "          await google.colab.output.renderOutput(dataTable, element);\n",
              "          const docLink = document.createElement('div');\n",
              "          docLink.innerHTML = docLinkHtml;\n",
              "          element.appendChild(docLink);\n",
              "        }\n",
              "      </script>\n",
              "    </div>\n",
              "  </div>\n",
              "  "
            ]
          },
          "metadata": {},
          "execution_count": 4
        }
      ],
      "source": [
        "dataset_train.head()"
      ]
    },
    {
      "cell_type": "code",
      "execution_count": 5,
      "metadata": {
        "colab": {
          "base_uri": "https://localhost:8080/"
        },
        "id": "2QNwQuE4xLKQ",
        "outputId": "af00138b-2b32-4d31-ae9f-d84e0e7ddb04"
      },
      "outputs": [
        {
          "output_type": "stream",
          "name": "stdout",
          "text": [
            "239      4534.50\n",
            "240      4571.50\n",
            "241      4607.50\n",
            "242      4656.75\n",
            "243      4577.00\n",
            "          ...   \n",
            "2001    12000.50\n",
            "2002    11812.00\n",
            "2003    11566.00\n",
            "2004    11500.00\n",
            "2005    11641.50\n",
            "Name: Open, Length: 1767, dtype: float64\n"
          ]
        }
      ],
      "source": [
        "test=dataset_train.iloc[239:]['Open']\n",
        "print(test)"
      ]
    },
    {
      "cell_type": "code",
      "execution_count": 6,
      "metadata": {
        "colab": {
          "base_uri": "https://localhost:8080/"
        },
        "id": "L2tsdabbxLKS",
        "outputId": "40eb4089-59f0-497a-8669-b92e985043e2"
      },
      "outputs": [
        {
          "output_type": "stream",
          "name": "stdout",
          "text": [
            "Shape of training set == (2006, 5).\n"
          ]
        },
        {
          "output_type": "execute_result",
          "data": {
            "text/plain": [
              "array([[ 4240.25,  4272.75,  4201.  ,  4214.25,  4214.25],\n",
              "       [ 4216.  ,  4220.75,  4145.  ,  4161.75,  4161.75],\n",
              "       [ 4166.5 ,  4172.5 ,  4082.  ,  4102.25,  4102.25],\n",
              "       ...,\n",
              "       [11566.  , 11596.25, 11422.5 , 11509.5 , 11509.5 ],\n",
              "       [11500.  , 11685.75, 11433.  , 11645.5 , 11645.5 ],\n",
              "       [11641.5 , 11748.  , 11517.  , 11569.75, 11569.75]])"
            ]
          },
          "metadata": {},
          "execution_count": 6
        }
      ],
      "source": [
        "dataset_train = dataset_train[cols].astype(str)\n",
        "for i in cols:\n",
        "    for j in range(0, len(dataset_train)):\n",
        "        dataset_train[i][j] = dataset_train[i][j].replace(',', '')\n",
        "\n",
        "dataset_train = dataset_train.astype(float)\n",
        "\n",
        "# Using multiple features (predictors)\n",
        "training_set = dataset_train.to_numpy()\n",
        "\n",
        "print('Shape of training set == {}.'.format(training_set.shape))\n",
        "training_set"
      ]
    },
    {
      "cell_type": "code",
      "execution_count": 7,
      "metadata": {
        "colab": {
          "base_uri": "https://localhost:8080/"
        },
        "id": "vmC0VIlOxLKV",
        "outputId": "3627024c-76fd-47ac-f8c3-8e37ffc4dddc"
      },
      "outputs": [
        {
          "output_type": "execute_result",
          "data": {
            "text/plain": [
              "array([[-1.12961762],\n",
              "       [-1.13627479],\n",
              "       [-1.14986365],\n",
              "       ...,\n",
              "       [ 0.8814655 ],\n",
              "       [ 0.86334702],\n",
              "       [ 0.90219195]])"
            ]
          },
          "metadata": {},
          "execution_count": 7
        }
      ],
      "source": [
        "# Feature Scaling\n",
        "from sklearn.preprocessing import StandardScaler\n",
        "\n",
        "sc = StandardScaler()\n",
        "training_set_scaled = sc.fit_transform(training_set)\n",
        "\n",
        "sc_predict = StandardScaler()\n",
        "sc_predict.fit_transform(training_set[:, 0:1])"
      ]
    },
    {
      "cell_type": "code",
      "execution_count": 8,
      "metadata": {
        "colab": {
          "base_uri": "https://localhost:8080/"
        },
        "id": "soLAE-TzxLKW",
        "outputId": "2053a1cb-3e38-42e6-80dc-66a16db922f9"
      },
      "outputs": [
        {
          "output_type": "stream",
          "name": "stdout",
          "text": [
            "X_train shape == (1857, 90, 4).\n",
            "y_train shape == (1857, 1).\n"
          ]
        }
      ],
      "source": [
        "# Creating a data structure with 90 timestamps and 1 output\n",
        "X_train = []\n",
        "y_train = []\n",
        "\n",
        "n_future = 60   # Number of days we want top predict into the future\n",
        "n_past = 90     # Number of past days we want to use to predict the future\n",
        "\n",
        "for i in range(n_past, len(training_set_scaled) - n_future +1):\n",
        "    X_train.append(training_set_scaled[i - n_past:i, 0:dataset_train.shape[1] - 1])\n",
        "    y_train.append(training_set_scaled[i + n_future - 1:i + n_future, 0])\n",
        "\n",
        "X_train, y_train = np.array(X_train), np.array(y_train)\n",
        "\n",
        "print('X_train shape == {}.'.format(X_train.shape))\n",
        "print('y_train shape == {}.'.format(y_train.shape))"
      ]
    },
    {
      "cell_type": "code",
      "execution_count": 17,
      "metadata": {
        "colab": {
          "base_uri": "https://localhost:8080/"
        },
        "id": "OMSnOfEoxLKY",
        "outputId": "4e4c62f0-ef6a-4a4b-9151-0e0f5fd64662"
      },
      "outputs": [
        {
          "output_type": "stream",
          "name": "stdout",
          "text": [
            "Model: \"sequential_1\"\n",
            "_________________________________________________________________\n",
            " Layer (type)                Output Shape              Param #   \n",
            "=================================================================\n",
            " lstm_7 (LSTM)               (None, 90, 50)            11000     \n",
            "                                                                 \n",
            " dropout_7 (Dropout)         (None, 90, 50)            0         \n",
            "                                                                 \n",
            " lstm_8 (LSTM)               (None, 90, 50)            20200     \n",
            "                                                                 \n",
            " dropout_8 (Dropout)         (None, 90, 50)            0         \n",
            "                                                                 \n",
            " lstm_9 (LSTM)               (None, 90, 50)            20200     \n",
            "                                                                 \n",
            " dropout_9 (Dropout)         (None, 90, 50)            0         \n",
            "                                                                 \n",
            " lstm_10 (LSTM)              (None, 90, 50)            20200     \n",
            "                                                                 \n",
            " dropout_10 (Dropout)        (None, 90, 50)            0         \n",
            "                                                                 \n",
            " lstm_11 (LSTM)              (None, 50)                20200     \n",
            "                                                                 \n",
            " dropout_11 (Dropout)        (None, 50)                0         \n",
            "                                                                 \n",
            " dense_1 (Dense)             (None, 1)                 51        \n",
            "                                                                 \n",
            "=================================================================\n",
            "Total params: 91,851\n",
            "Trainable params: 91,851\n",
            "Non-trainable params: 0\n",
            "_________________________________________________________________\n"
          ]
        }
      ],
      "source": [
        "# Initializing the Recurrent Neural Network\n",
        "model = Sequential()\n",
        "#Adding the first LSTM layer with a sigmoid activation function and some Dropout regularization\n",
        "#Units - dimensionality of the output space\n",
        "\n",
        "model.add(LSTM(units = 50, return_sequences = True, input_shape = (X_train.shape[1], 4)))\n",
        "model.add(Dropout(0.2))\n",
        "\n",
        "model.add(LSTM(units = 50, return_sequences = True))\n",
        "model.add(Dropout(0.2))\n",
        "\n",
        "model.add(LSTM(units = 50, return_sequences = True))\n",
        "model.add(Dropout(0.2))\n",
        "\n",
        "model.add(LSTM(units = 50, return_sequences = True))\n",
        "model.add(Dropout(0.2))\n",
        "\n",
        "model.add(LSTM(units = 50))\n",
        "model.add(Dropout(0.2))\n",
        "\n",
        "# Adding the output layer\n",
        "model.add(Dense(units = 1))\n",
        "model.summary()"
      ]
    },
    {
      "cell_type": "code",
      "execution_count": 18,
      "metadata": {
        "colab": {
          "base_uri": "https://localhost:8080/"
        },
        "id": "jGIkgSrpxLKb",
        "outputId": "e7f93af0-2ca9-414f-8fac-bee26442e491"
      },
      "outputs": [
        {
          "output_type": "stream",
          "name": "stdout",
          "text": [
            "Epoch 1/150\n",
            "7/7 [==============================] - 12s 549ms/step - loss: 0.4709\n",
            "Epoch 2/150\n",
            "7/7 [==============================] - 4s 557ms/step - loss: 0.1534\n",
            "Epoch 3/150\n",
            "7/7 [==============================] - 4s 550ms/step - loss: 0.1201\n",
            "Epoch 4/150\n",
            "7/7 [==============================] - 4s 561ms/step - loss: 0.0889\n",
            "Epoch 5/150\n",
            "7/7 [==============================] - 4s 557ms/step - loss: 0.0783\n",
            "Epoch 6/150\n",
            "7/7 [==============================] - 4s 560ms/step - loss: 0.0717\n",
            "Epoch 7/150\n",
            "7/7 [==============================] - 4s 604ms/step - loss: 0.0681\n",
            "Epoch 8/150\n",
            "7/7 [==============================] - 5s 626ms/step - loss: 0.0651\n",
            "Epoch 9/150\n",
            "7/7 [==============================] - 4s 548ms/step - loss: 0.0673\n",
            "Epoch 10/150\n",
            "7/7 [==============================] - 4s 556ms/step - loss: 0.0673\n",
            "Epoch 11/150\n",
            "7/7 [==============================] - 4s 559ms/step - loss: 0.0636\n",
            "Epoch 12/150\n",
            "7/7 [==============================] - 4s 552ms/step - loss: 0.0684\n",
            "Epoch 13/150\n",
            "7/7 [==============================] - 5s 643ms/step - loss: 0.0637\n",
            "Epoch 14/150\n",
            "7/7 [==============================] - 4s 546ms/step - loss: 0.0675\n",
            "Epoch 15/150\n",
            "7/7 [==============================] - 5s 748ms/step - loss: 0.0636\n",
            "Epoch 16/150\n",
            "7/7 [==============================] - 4s 549ms/step - loss: 0.0625\n",
            "Epoch 17/150\n",
            "7/7 [==============================] - 4s 552ms/step - loss: 0.0609\n",
            "Epoch 18/150\n",
            "7/7 [==============================] - 4s 555ms/step - loss: 0.0610\n",
            "Epoch 19/150\n",
            "7/7 [==============================] - 4s 551ms/step - loss: 0.0549\n",
            "Epoch 20/150\n",
            "7/7 [==============================] - 4s 547ms/step - loss: 0.0532\n",
            "Epoch 21/150\n",
            "7/7 [==============================] - 4s 553ms/step - loss: 0.0478\n",
            "Epoch 22/150\n",
            "7/7 [==============================] - 4s 556ms/step - loss: 0.0497\n",
            "Epoch 23/150\n",
            "7/7 [==============================] - 4s 550ms/step - loss: 0.0465\n",
            "Epoch 24/150\n",
            "7/7 [==============================] - 4s 550ms/step - loss: 0.0509\n",
            "Epoch 25/150\n",
            "7/7 [==============================] - 4s 556ms/step - loss: 0.0438\n",
            "Epoch 26/150\n",
            "7/7 [==============================] - 4s 558ms/step - loss: 0.0392\n",
            "Epoch 27/150\n",
            "7/7 [==============================] - 4s 546ms/step - loss: 0.0399\n",
            "Epoch 28/150\n",
            "7/7 [==============================] - 4s 549ms/step - loss: 0.0400\n",
            "Epoch 29/150\n",
            "7/7 [==============================] - 4s 551ms/step - loss: 0.0419\n",
            "Epoch 30/150\n",
            "7/7 [==============================] - 4s 549ms/step - loss: 0.0361\n",
            "Epoch 31/150\n",
            "7/7 [==============================] - 4s 552ms/step - loss: 0.0344\n",
            "Epoch 32/150\n",
            "7/7 [==============================] - 4s 547ms/step - loss: 0.0361\n",
            "Epoch 33/150\n",
            "7/7 [==============================] - 4s 553ms/step - loss: 0.0348\n",
            "Epoch 34/150\n",
            "7/7 [==============================] - 4s 550ms/step - loss: 0.0329\n",
            "Epoch 35/150\n",
            "7/7 [==============================] - 4s 554ms/step - loss: 0.0299\n",
            "Epoch 36/150\n",
            "7/7 [==============================] - 4s 554ms/step - loss: 0.0283\n",
            "Epoch 37/150\n",
            "7/7 [==============================] - 4s 555ms/step - loss: 0.0295\n",
            "Epoch 38/150\n",
            "7/7 [==============================] - 4s 562ms/step - loss: 0.0285\n",
            "Epoch 39/150\n",
            "7/7 [==============================] - 4s 553ms/step - loss: 0.0280\n",
            "Epoch 40/150\n",
            "7/7 [==============================] - 4s 558ms/step - loss: 0.0304\n",
            "Epoch 41/150\n",
            "7/7 [==============================] - 4s 557ms/step - loss: 0.0263\n",
            "Epoch 42/150\n",
            "7/7 [==============================] - 4s 555ms/step - loss: 0.0251\n",
            "Epoch 43/150\n",
            "7/7 [==============================] - 4s 549ms/step - loss: 0.0260\n",
            "Epoch 44/150\n",
            "7/7 [==============================] - 4s 553ms/step - loss: 0.0253\n",
            "Epoch 45/150\n",
            "7/7 [==============================] - 4s 552ms/step - loss: 0.0267\n",
            "Epoch 46/150\n",
            "7/7 [==============================] - 4s 556ms/step - loss: 0.0260\n",
            "Epoch 47/150\n",
            "7/7 [==============================] - 4s 550ms/step - loss: 0.0249\n",
            "Epoch 48/150\n",
            "7/7 [==============================] - 4s 551ms/step - loss: 0.0252\n",
            "Epoch 49/150\n",
            "7/7 [==============================] - 4s 554ms/step - loss: 0.0229\n",
            "Epoch 50/150\n",
            "7/7 [==============================] - 4s 553ms/step - loss: 0.0230\n",
            "Epoch 51/150\n",
            "7/7 [==============================] - 4s 550ms/step - loss: 0.0222\n",
            "Epoch 52/150\n",
            "7/7 [==============================] - 4s 550ms/step - loss: 0.0206\n",
            "Epoch 53/150\n",
            "7/7 [==============================] - 4s 548ms/step - loss: 0.0229\n",
            "Epoch 54/150\n",
            "7/7 [==============================] - 4s 551ms/step - loss: 0.0229\n",
            "Epoch 55/150\n",
            "7/7 [==============================] - 4s 550ms/step - loss: 0.0244\n",
            "Epoch 56/150\n",
            "7/7 [==============================] - 4s 555ms/step - loss: 0.0217\n",
            "Epoch 57/150\n",
            "7/7 [==============================] - 4s 558ms/step - loss: 0.0219\n",
            "Epoch 58/150\n",
            "7/7 [==============================] - 4s 561ms/step - loss: 0.0217\n",
            "Epoch 59/150\n",
            "7/7 [==============================] - 4s 560ms/step - loss: 0.0212\n",
            "Epoch 60/150\n",
            "7/7 [==============================] - 4s 549ms/step - loss: 0.0196\n",
            "Epoch 61/150\n",
            "7/7 [==============================] - 5s 746ms/step - loss: 0.0194\n",
            "Epoch 62/150\n",
            "7/7 [==============================] - 4s 556ms/step - loss: 0.0199\n",
            "Epoch 63/150\n",
            "7/7 [==============================] - 4s 557ms/step - loss: 0.0201\n",
            "Epoch 64/150\n",
            "7/7 [==============================] - 4s 552ms/step - loss: 0.0209\n",
            "Epoch 65/150\n",
            "7/7 [==============================] - 4s 556ms/step - loss: 0.0215\n",
            "Epoch 66/150\n",
            "7/7 [==============================] - 4s 548ms/step - loss: 0.0197\n",
            "Epoch 67/150\n",
            "7/7 [==============================] - 4s 557ms/step - loss: 0.0190\n",
            "Epoch 68/150\n",
            "7/7 [==============================] - 4s 551ms/step - loss: 0.0222\n",
            "Epoch 69/150\n",
            "7/7 [==============================] - 4s 550ms/step - loss: 0.0186\n",
            "Epoch 70/150\n",
            "7/7 [==============================] - 4s 555ms/step - loss: 0.0205\n",
            "Epoch 71/150\n",
            "7/7 [==============================] - 4s 555ms/step - loss: 0.0204\n",
            "Epoch 72/150\n",
            "7/7 [==============================] - 4s 552ms/step - loss: 0.0210\n",
            "Epoch 73/150\n",
            "7/7 [==============================] - 4s 551ms/step - loss: 0.0195\n",
            "Epoch 74/150\n",
            "7/7 [==============================] - 4s 548ms/step - loss: 0.0179\n",
            "Epoch 75/150\n",
            "7/7 [==============================] - 4s 547ms/step - loss: 0.0180\n",
            "Epoch 76/150\n",
            "7/7 [==============================] - 4s 548ms/step - loss: 0.0181\n",
            "Epoch 77/150\n",
            "7/7 [==============================] - 4s 550ms/step - loss: 0.0217\n",
            "Epoch 78/150\n",
            "7/7 [==============================] - 4s 560ms/step - loss: 0.0180\n",
            "Epoch 79/150\n",
            "7/7 [==============================] - 4s 553ms/step - loss: 0.0203\n",
            "Epoch 80/150\n",
            "7/7 [==============================] - 4s 548ms/step - loss: 0.0196\n",
            "Epoch 81/150\n",
            "7/7 [==============================] - 4s 550ms/step - loss: 0.0200\n",
            "Epoch 82/150\n",
            "7/7 [==============================] - 4s 547ms/step - loss: 0.0199\n",
            "Epoch 83/150\n",
            "7/7 [==============================] - 4s 548ms/step - loss: 0.0194\n",
            "Epoch 84/150\n",
            "7/7 [==============================] - 4s 557ms/step - loss: 0.0200\n",
            "Epoch 85/150\n",
            "7/7 [==============================] - 4s 551ms/step - loss: 0.0191\n",
            "Epoch 86/150\n",
            "7/7 [==============================] - 4s 571ms/step - loss: 0.0195\n",
            "Epoch 87/150\n",
            "7/7 [==============================] - 4s 558ms/step - loss: 0.0184\n",
            "Epoch 88/150\n",
            "7/7 [==============================] - 4s 561ms/step - loss: 0.0189\n",
            "Epoch 89/150\n",
            "7/7 [==============================] - 4s 560ms/step - loss: 0.0228\n",
            "Epoch 90/150\n",
            "7/7 [==============================] - 4s 546ms/step - loss: 0.0199\n",
            "Epoch 91/150\n",
            "7/7 [==============================] - 4s 550ms/step - loss: 0.0194\n",
            "Epoch 92/150\n",
            "7/7 [==============================] - 4s 549ms/step - loss: 0.0237\n",
            "Epoch 93/150\n",
            "7/7 [==============================] - 4s 557ms/step - loss: 0.0246\n",
            "Epoch 94/150\n",
            "7/7 [==============================] - 4s 553ms/step - loss: 0.0217\n",
            "Epoch 95/150\n",
            "7/7 [==============================] - 4s 548ms/step - loss: 0.0188\n",
            "Epoch 96/150\n",
            "7/7 [==============================] - 4s 554ms/step - loss: 0.0192\n",
            "Epoch 97/150\n",
            "7/7 [==============================] - 4s 551ms/step - loss: 0.0176\n",
            "Epoch 98/150\n",
            "7/7 [==============================] - 4s 554ms/step - loss: 0.0169\n",
            "Epoch 99/150\n",
            "7/7 [==============================] - 4s 555ms/step - loss: 0.0178\n",
            "Epoch 100/150\n",
            "7/7 [==============================] - 4s 556ms/step - loss: 0.0180\n",
            "Epoch 101/150\n",
            "7/7 [==============================] - 4s 559ms/step - loss: 0.0174\n",
            "Epoch 102/150\n",
            "7/7 [==============================] - 4s 558ms/step - loss: 0.0166\n",
            "Epoch 103/150\n",
            "7/7 [==============================] - 4s 547ms/step - loss: 0.0166\n",
            "Epoch 104/150\n",
            "7/7 [==============================] - 4s 555ms/step - loss: 0.0145\n",
            "Epoch 105/150\n",
            "7/7 [==============================] - 4s 545ms/step - loss: 0.0165\n",
            "Epoch 106/150\n",
            "7/7 [==============================] - 4s 550ms/step - loss: 0.0150\n",
            "Epoch 107/150\n",
            "7/7 [==============================] - 4s 549ms/step - loss: 0.0160\n",
            "Epoch 108/150\n",
            "7/7 [==============================] - 4s 549ms/step - loss: 0.0154\n",
            "Epoch 109/150\n",
            "7/7 [==============================] - 4s 555ms/step - loss: 0.0169\n",
            "Epoch 110/150\n",
            "7/7 [==============================] - 4s 551ms/step - loss: 0.0163\n",
            "Epoch 111/150\n",
            "7/7 [==============================] - 4s 551ms/step - loss: 0.0160\n",
            "Epoch 112/150\n",
            "7/7 [==============================] - 4s 549ms/step - loss: 0.0148\n",
            "Epoch 113/150\n",
            "7/7 [==============================] - 4s 547ms/step - loss: 0.0153\n",
            "Epoch 114/150\n",
            "7/7 [==============================] - 4s 551ms/step - loss: 0.0172\n",
            "Epoch 115/150\n",
            "7/7 [==============================] - 5s 736ms/step - loss: 0.0210\n",
            "Epoch 116/150\n",
            "7/7 [==============================] - 4s 559ms/step - loss: 0.0187\n",
            "Epoch 117/150\n",
            "7/7 [==============================] - 4s 560ms/step - loss: 0.0167\n",
            "Epoch 118/150\n",
            "7/7 [==============================] - 4s 558ms/step - loss: 0.0156\n",
            "Epoch 119/150\n",
            "7/7 [==============================] - 4s 552ms/step - loss: 0.0163\n",
            "Epoch 120/150\n",
            "7/7 [==============================] - 4s 551ms/step - loss: 0.0148\n",
            "Epoch 121/150\n",
            "7/7 [==============================] - 4s 554ms/step - loss: 0.0144\n",
            "Epoch 122/150\n",
            "7/7 [==============================] - 4s 553ms/step - loss: 0.0165\n",
            "Epoch 123/150\n",
            "7/7 [==============================] - 4s 553ms/step - loss: 0.0165\n",
            "Epoch 124/150\n",
            "7/7 [==============================] - 4s 560ms/step - loss: 0.0155\n",
            "Epoch 125/150\n",
            "7/7 [==============================] - 4s 550ms/step - loss: 0.0143\n",
            "Epoch 126/150\n",
            "7/7 [==============================] - 4s 555ms/step - loss: 0.0144\n",
            "Epoch 127/150\n",
            "7/7 [==============================] - 4s 553ms/step - loss: 0.0139\n",
            "Epoch 128/150\n",
            "7/7 [==============================] - 4s 554ms/step - loss: 0.0160\n",
            "Epoch 129/150\n",
            "7/7 [==============================] - 4s 553ms/step - loss: 0.0160\n",
            "Epoch 130/150\n",
            "7/7 [==============================] - 4s 556ms/step - loss: 0.0156\n",
            "Epoch 131/150\n",
            "7/7 [==============================] - 4s 560ms/step - loss: 0.0164\n",
            "Epoch 132/150\n",
            "7/7 [==============================] - 4s 554ms/step - loss: 0.0144\n",
            "Epoch 133/150\n",
            "7/7 [==============================] - 4s 554ms/step - loss: 0.0146\n",
            "Epoch 134/150\n",
            "7/7 [==============================] - 4s 552ms/step - loss: 0.0150\n",
            "Epoch 135/150\n",
            "7/7 [==============================] - 4s 549ms/step - loss: 0.0148\n",
            "Epoch 136/150\n",
            "7/7 [==============================] - 4s 557ms/step - loss: 0.0159\n",
            "Epoch 137/150\n",
            "7/7 [==============================] - 4s 548ms/step - loss: 0.0154\n",
            "Epoch 138/150\n",
            "7/7 [==============================] - 4s 553ms/step - loss: 0.0144\n",
            "Epoch 139/150\n",
            "7/7 [==============================] - 4s 561ms/step - loss: 0.0139\n",
            "Epoch 140/150\n",
            "7/7 [==============================] - 4s 552ms/step - loss: 0.0148\n",
            "Epoch 141/150\n",
            "7/7 [==============================] - 4s 557ms/step - loss: 0.0142\n",
            "Epoch 142/150\n",
            "7/7 [==============================] - 4s 554ms/step - loss: 0.0145\n",
            "Epoch 143/150\n",
            "7/7 [==============================] - 4s 554ms/step - loss: 0.0154\n",
            "Epoch 144/150\n",
            "7/7 [==============================] - 4s 557ms/step - loss: 0.0149\n",
            "Epoch 145/150\n",
            "7/7 [==============================] - 4s 548ms/step - loss: 0.0148\n",
            "Epoch 146/150\n",
            "7/7 [==============================] - 4s 556ms/step - loss: 0.0141\n",
            "Epoch 147/150\n",
            "7/7 [==============================] - 4s 550ms/step - loss: 0.0149\n",
            "Epoch 148/150\n",
            "7/7 [==============================] - 4s 557ms/step - loss: 0.0150\n",
            "Epoch 149/150\n",
            "7/7 [==============================] - 4s 551ms/step - loss: 0.0150\n",
            "Epoch 150/150\n",
            "7/7 [==============================] - 4s 554ms/step - loss: 0.0157\n"
          ]
        }
      ],
      "source": [
        "model.compile(optimizer = 'adam', loss = 'mean_squared_error')\n",
        "model.fit(X_train, y_train, epochs = 150, batch_size = 300);"
      ]
    },
    {
      "cell_type": "code",
      "execution_count": 19,
      "metadata": {
        "id": "7xi0qdPJxLKd"
      },
      "outputs": [],
      "source": [
        "# Generate list of sequence of days for predictions\n",
        "datelist_future = pd.date_range(datelist_train[-1], periods=n_future, freq='1d').tolist()\n",
        "\n",
        "# Convert Pandas Timestamp to Datetime object (for transformation) --> FUTURE\n",
        "datelist_future_ = []\n",
        "for this_timestamp in datelist_future:\n",
        "    datelist_future_.append(this_timestamp.date())"
      ]
    },
    {
      "cell_type": "code",
      "execution_count": 20,
      "metadata": {
        "colab": {
          "base_uri": "https://localhost:8080/"
        },
        "id": "sQZ9bJTRxLKg",
        "outputId": "1eb72f4e-1e48-404e-9c14-2f9c8ba33f5c"
      },
      "outputs": [
        {
          "output_type": "stream",
          "name": "stdout",
          "text": [
            "2/2 [==============================] - 2s 36ms/step\n",
            "56/56 [==============================] - 2s 34ms/step\n"
          ]
        }
      ],
      "source": [
        "# Perform predictions\n",
        "predictions_future = model.predict(X_train[-n_future:])\n",
        "\n",
        "predictions_train = model.predict(X_train[n_past:])"
      ]
    },
    {
      "cell_type": "code",
      "execution_count": 21,
      "metadata": {
        "colab": {
          "base_uri": "https://localhost:8080/",
          "height": 143
        },
        "id": "4C0C_lEXxLKh",
        "outputId": "f0b9cea7-6b25-4a68-8500-ab4274ae0c8d"
      },
      "outputs": [
        {
          "output_type": "execute_result",
          "data": {
            "text/plain": [
              "                   Open\n",
              "2015-12-14  4546.852539\n",
              "2015-12-15  4542.144043\n",
              "2015-12-16  4537.700195"
            ],
            "text/html": [
              "\n",
              "  <div id=\"df-1cd4a645-2245-4d0a-980f-cd951f98c713\">\n",
              "    <div class=\"colab-df-container\">\n",
              "      <div>\n",
              "<style scoped>\n",
              "    .dataframe tbody tr th:only-of-type {\n",
              "        vertical-align: middle;\n",
              "    }\n",
              "\n",
              "    .dataframe tbody tr th {\n",
              "        vertical-align: top;\n",
              "    }\n",
              "\n",
              "    .dataframe thead th {\n",
              "        text-align: right;\n",
              "    }\n",
              "</style>\n",
              "<table border=\"1\" class=\"dataframe\">\n",
              "  <thead>\n",
              "    <tr style=\"text-align: right;\">\n",
              "      <th></th>\n",
              "      <th>Open</th>\n",
              "    </tr>\n",
              "  </thead>\n",
              "  <tbody>\n",
              "    <tr>\n",
              "      <th>2015-12-14</th>\n",
              "      <td>4546.852539</td>\n",
              "    </tr>\n",
              "    <tr>\n",
              "      <th>2015-12-15</th>\n",
              "      <td>4542.144043</td>\n",
              "    </tr>\n",
              "    <tr>\n",
              "      <th>2015-12-16</th>\n",
              "      <td>4537.700195</td>\n",
              "    </tr>\n",
              "  </tbody>\n",
              "</table>\n",
              "</div>\n",
              "      <button class=\"colab-df-convert\" onclick=\"convertToInteractive('df-1cd4a645-2245-4d0a-980f-cd951f98c713')\"\n",
              "              title=\"Convert this dataframe to an interactive table.\"\n",
              "              style=\"display:none;\">\n",
              "        \n",
              "  <svg xmlns=\"http://www.w3.org/2000/svg\" height=\"24px\"viewBox=\"0 0 24 24\"\n",
              "       width=\"24px\">\n",
              "    <path d=\"M0 0h24v24H0V0z\" fill=\"none\"/>\n",
              "    <path d=\"M18.56 5.44l.94 2.06.94-2.06 2.06-.94-2.06-.94-.94-2.06-.94 2.06-2.06.94zm-11 1L8.5 8.5l.94-2.06 2.06-.94-2.06-.94L8.5 2.5l-.94 2.06-2.06.94zm10 10l.94 2.06.94-2.06 2.06-.94-2.06-.94-.94-2.06-.94 2.06-2.06.94z\"/><path d=\"M17.41 7.96l-1.37-1.37c-.4-.4-.92-.59-1.43-.59-.52 0-1.04.2-1.43.59L10.3 9.45l-7.72 7.72c-.78.78-.78 2.05 0 2.83L4 21.41c.39.39.9.59 1.41.59.51 0 1.02-.2 1.41-.59l7.78-7.78 2.81-2.81c.8-.78.8-2.07 0-2.86zM5.41 20L4 18.59l7.72-7.72 1.47 1.35L5.41 20z\"/>\n",
              "  </svg>\n",
              "      </button>\n",
              "      \n",
              "  <style>\n",
              "    .colab-df-container {\n",
              "      display:flex;\n",
              "      flex-wrap:wrap;\n",
              "      gap: 12px;\n",
              "    }\n",
              "\n",
              "    .colab-df-convert {\n",
              "      background-color: #E8F0FE;\n",
              "      border: none;\n",
              "      border-radius: 50%;\n",
              "      cursor: pointer;\n",
              "      display: none;\n",
              "      fill: #1967D2;\n",
              "      height: 32px;\n",
              "      padding: 0 0 0 0;\n",
              "      width: 32px;\n",
              "    }\n",
              "\n",
              "    .colab-df-convert:hover {\n",
              "      background-color: #E2EBFA;\n",
              "      box-shadow: 0px 1px 2px rgba(60, 64, 67, 0.3), 0px 1px 3px 1px rgba(60, 64, 67, 0.15);\n",
              "      fill: #174EA6;\n",
              "    }\n",
              "\n",
              "    [theme=dark] .colab-df-convert {\n",
              "      background-color: #3B4455;\n",
              "      fill: #D2E3FC;\n",
              "    }\n",
              "\n",
              "    [theme=dark] .colab-df-convert:hover {\n",
              "      background-color: #434B5C;\n",
              "      box-shadow: 0px 1px 3px 1px rgba(0, 0, 0, 0.15);\n",
              "      filter: drop-shadow(0px 1px 2px rgba(0, 0, 0, 0.3));\n",
              "      fill: #FFFFFF;\n",
              "    }\n",
              "  </style>\n",
              "\n",
              "      <script>\n",
              "        const buttonEl =\n",
              "          document.querySelector('#df-1cd4a645-2245-4d0a-980f-cd951f98c713 button.colab-df-convert');\n",
              "        buttonEl.style.display =\n",
              "          google.colab.kernel.accessAllowed ? 'block' : 'none';\n",
              "\n",
              "        async function convertToInteractive(key) {\n",
              "          const element = document.querySelector('#df-1cd4a645-2245-4d0a-980f-cd951f98c713');\n",
              "          const dataTable =\n",
              "            await google.colab.kernel.invokeFunction('convertToInteractive',\n",
              "                                                     [key], {});\n",
              "          if (!dataTable) return;\n",
              "\n",
              "          const docLinkHtml = 'Like what you see? Visit the ' +\n",
              "            '<a target=\"_blank\" href=https://colab.research.google.com/notebooks/data_table.ipynb>data table notebook</a>'\n",
              "            + ' to learn more about interactive tables.';\n",
              "          element.innerHTML = '';\n",
              "          dataTable['output_type'] = 'display_data';\n",
              "          await google.colab.output.renderOutput(dataTable, element);\n",
              "          const docLink = document.createElement('div');\n",
              "          docLink.innerHTML = docLinkHtml;\n",
              "          element.appendChild(docLink);\n",
              "        }\n",
              "      </script>\n",
              "    </div>\n",
              "  </div>\n",
              "  "
            ]
          },
          "metadata": {},
          "execution_count": 21
        }
      ],
      "source": [
        "# Inverse the predictions to original measurements\n",
        "\n",
        "# ---> Special function: convert <datetime.date> to <Timestamp>\n",
        "def datetime_to_timestamp(x):\n",
        "    return datetime.strptime(x.strftime('%Y%m%d'), '%Y%m%d')\n",
        "\n",
        "\n",
        "y_pred_future = sc_predict.inverse_transform(predictions_future)\n",
        "y_pred_train = sc_predict.inverse_transform(predictions_train)\n",
        "\n",
        "PREDICTIONS_FUTURE = pd.DataFrame(y_pred_future, columns=['Open']).set_index(pd.Series(datelist_future))\n",
        "PREDICTION_TRAIN = pd.DataFrame(y_pred_train, columns=['Open']).set_index(pd.Series(datelist_train[2 * n_past + n_future -1:]))\n",
        "\n",
        "# Convert <datetime.date> to <Timestamp> for PREDCITION_TRAIN\n",
        "PREDICTION_TRAIN.index = PREDICTION_TRAIN.index.to_series().apply(datetime_to_timestamp)\n",
        "\n",
        "PREDICTION_TRAIN.head(3)"
      ]
    },
    {
      "cell_type": "code",
      "execution_count": 25,
      "metadata": {
        "colab": {
          "base_uri": "https://localhost:8080/",
          "height": 336
        },
        "id": "A3S03qnPxLKj",
        "outputId": "0ff316c5-73e8-4960-cf4f-552798ad856b"
      },
      "outputs": [
        {
          "output_type": "display_data",
          "data": {
            "text/plain": [
              "<Figure size 1008x360 with 1 Axes>"
            ],
            "image/png": "[encoded data removed]"
          },
          "metadata": {
            "needs_background": "light"
          }
        }
      ],
      "source": [
        "# Set plot size \n",
        "from pylab import rcParams\n",
        "rcParams['figure.figsize'] = 14, 5\n",
        "\n",
        "# Plot parameters\n",
        "START_DATE_FOR_PLOTTING = '2015-08-28'\n",
        "\n",
        "plt.plot(PREDICTIONS_FUTURE.index, PREDICTIONS_FUTURE['Open'], color='r', label='Predicted Stock Price')\n",
        "plt.plot(PREDICTION_TRAIN.index, PREDICTION_TRAIN.loc[START_DATE_FOR_PLOTTING:]['Open'], color='orange', label='Training predictions')\n",
        "plt.plot(datelist_train, dataset_train['Open'], color='b', label='Actual Stock Price')\n",
        "\n",
        "plt.axvline(x = min(PREDICTIONS_FUTURE.index), color='green', linewidth=2, linestyle='--')\n",
        "\n",
        "plt.grid(which='major', color='#cccccc', alpha=0.5)\n",
        "\n",
        "plt.legend(shadow=True)\n",
        "plt.title('Predcitions and Acutal Stock Prices', family='Arial', fontsize=12)\n",
        "# plt.xlabel('Timeline', family='Arial', fontsize=10)\n",
        "# plt.ylabel('Stock Price Value', family='Arial', fontsize=10)\n",
        "# plt.xticks(rotation=45, fontsize=8)\n",
        "plt.title(\"Prediction Using LSTM\")\n",
        "plt.show()"
      ]
    },
    {
      "cell_type": "code",
      "execution_count": 26,
      "metadata": {
        "colab": {
          "base_uri": "https://localhost:8080/"
        },
        "id": "yaqgLqYWxLKk",
        "outputId": "5cb740dd-7137-45d1-99db-7ce547e84ec8"
      },
      "outputs": [
        {
          "output_type": "stream",
          "name": "stdout",
          "text": [
            "MSE: 112773.66564171069\n",
            "MAE: 255.02431618505804\n",
            "RMSE: 335.81790548109655\n"
          ]
        }
      ],
      "source": [
        "pred = np.array(PREDICTION_TRAIN[\"Open\"])\n",
        "diff = pred - test\n",
        "diffLSTM=list(diff)[1:]\n",
        "diffLSTM=np.array(diffLSTM)\n",
        "print(\"MSE:\", np.mean(diffLSTM**2))\n",
        "print(\"MAE:\", np.mean(abs(diffLSTM)))\n",
        "print(\"RMSE:\", np.sqrt(np.mean(diffLSTM**2)))"
      ]
    },
    {
      "cell_type": "code",
      "execution_count": 27,
      "metadata": {
        "colab": {
          "base_uri": "https://localhost:8080/"
        },
        "id": "S7XoPgdSxLKk",
        "outputId": "cf3a5c76-203e-4e69-fc41-b7c54cd4b6eb"
      },
      "outputs": [
        {
          "output_type": "stream",
          "name": "stdout",
          "text": [
            "MSE:  335.646500590726\n",
            "Mean Absolute Error:  254.87040181097905\n",
            "R2 Score:  0.9911201266823295\n",
            "MAPE Percentage Error:  0.032739474301546306\n"
          ]
        }
      ],
      "source": [
        "pred=[]\n",
        "for val in PREDICTION_TRAIN['Open']:\n",
        "  pred.append(val)\n",
        "for i in range(len(pred)):\n",
        "  pred[i]=int(pred[i])\n",
        "\n",
        "testValues=[]\n",
        "for val in test:\n",
        "  testValues.append(float(val))\n",
        "\n",
        "from sklearn.metrics import accuracy_score\n",
        "from sklearn.metrics import mean_squared_error, mean_absolute_error\n",
        "from sklearn.metrics import r2_score\n",
        "\n",
        "print('MSE: ',np.sqrt(mean_squared_error(testValues, pred)))\n",
        "print(\"Mean Absolute Error: \",mean_absolute_error(testValues, pred))\n",
        "print(\"R2 Score: \",r2_score(testValues, pred))\n",
        "print(\"MAPE Percentage Error: \",mean_absolute_percentage_error(testValues, pred))\n"
      ]
    }
  ],
  "metadata": {
    "kernelspec": {
      "display_name": "Python 3",
      "language": "python",
      "name": "python3"
    },
    "language_info": {
      "codemirror_mode": {
        "name": "ipython",
        "version": 3
      },
      "file_extension": ".py",
      "mimetype": "text/x-python",
      "name": "python",
      "nbconvert_exporter": "python",
      "pygments_lexer": "ipython3",
      "version": "3.7.6"
    },
    "colab": {
      "provenance": []
    }
  },
  "nbformat": 4,
  "nbformat_minor": 0
}